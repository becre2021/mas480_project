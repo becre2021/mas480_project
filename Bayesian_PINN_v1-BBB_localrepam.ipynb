{
 "cells": [
  {
   "cell_type": "code",
   "execution_count": 1,
   "metadata": {},
   "outputs": [],
   "source": [
    "import torch \n",
    "import torch.autograd as autograd\n",
    "import torch.nn as nn\n",
    "import torch.optim as optim\n",
    "\n",
    "from attrdict import AttrDict\n",
    "import numpy as np\n",
    "import random\n",
    "\n",
    "import matplotlib.pyplot as plt"
   ]
  },
  {
   "cell_type": "code",
   "execution_count": null,
   "metadata": {},
   "outputs": [],
   "source": []
  },
  {
   "cell_type": "code",
   "execution_count": 2,
   "metadata": {},
   "outputs": [],
   "source": [
    "args = AttrDict()\n",
    "args.seeds = 1111"
   ]
  },
  {
   "cell_type": "code",
   "execution_count": 3,
   "metadata": {},
   "outputs": [],
   "source": [
    "random_seed = args.seeds\n",
    "torch.manual_seed(random_seed)\n",
    "random.seed(random_seed)\n",
    "np.random.seed(random_seed)\n",
    "torch.backends.cudnn.deterministic = True\n",
    "torch.backends.cudnn.benchmark = False\n"
   ]
  },
  {
   "cell_type": "code",
   "execution_count": 4,
   "metadata": {},
   "outputs": [],
   "source": [
    "\n",
    "\n",
    "\n",
    "class PINN_Basic(nn.Module):\n",
    "    def __init__(self,nn_model, pdetype = 'v1' ):\n",
    "        super(PINN_Basic,self).__init__()\n",
    "\n",
    "        self.pde_type = pdetype\n",
    "        self.nn_model = nn_model\n",
    "        self.in_dim =  nn_model.in_dim         \n",
    "        self.out_dim = nn_model.out_dim\n",
    "        self.reg_lambda = 1\n",
    "        \n",
    "        #self.mse_loss = nn.MSELoss(reduce=False)\n",
    "        self.mse_loss = nn.MSELoss(reduce=True,reduction = 'mean')\n",
    "            \n",
    "    def forward(self,xt):        \n",
    "        u_xt = self.nn_model(xt)                \n",
    "        return u_xt\n",
    "    \n",
    "    \n",
    "    def compute_loss(self,xt_rd,y_rd,xt_init,u_init,xt_bd,u_bd):\n",
    "        loss_rd = self.compute_pdeloss_rd(xt_rd,y_rd)\n",
    "        loss_init = self.compute_pdeloss_bdinit(xt_init,u_init)\n",
    "        loss_bd = self.compute_pdeloss_bdinit(xt_bd,u_bd)        \n",
    "        #loss = loss_rd + self.reg_lambda*(0.5*loss_init + 0.5*loss_bd)\n",
    "        #return loss_rd + self.reg_lambda*(0.5*loss_init + 0.5*loss_bd)\n",
    "        return loss_rd,loss_init,loss_bd\n",
    "\n",
    "    \n",
    "    def compute_pdeloss_rd(self,xt,y):        \n",
    "        xt_grad = xt.clone()\n",
    "        xt_grad.requires_grad = True\n",
    "\n",
    "        u = self.nn_model(xt_grad)                \n",
    "        du_dxt= autograd.grad(u,xt_grad,torch.ones_like(u).to(u.device),retain_graph=True,create_graph=True)[0]\n",
    "        du_dx_dxt = autograd.grad(du_dxt[:,:,:-1],xt_grad,torch.ones_like(du_dxt[:,:,:-1]).to(xt_grad.device),retain_graph=True,create_graph=True)[0]\n",
    "        du_dx = du_dxt[:,:,:-1]\n",
    "        du_dxx = du_dx_dxt[:,:,:-1]\n",
    "\n",
    "        # compute loss depending on pde\n",
    "        pde_loss = self.mse_loss(0.01*du_dxx,y)\n",
    "        \n",
    "        return pde_loss\n",
    "    \n",
    "    \n",
    "    def compute_pdeloss_bdinit(self,xt,y):        \n",
    "        u = self.nn_model(xt)                \n",
    "        # compute loss depending on pde\n",
    "        pde_loss = self.mse_loss(u,y)\n",
    "        \n",
    "        return pde_loss"
   ]
  },
  {
   "cell_type": "code",
   "execution_count": 5,
   "metadata": {},
   "outputs": [],
   "source": [
    "#  ----------------------------------------------------\n",
    "#https://github.com/JavierAntoran/Bayesian-Neural-Networks/blob/master/src/Bayes_By_Backprop_Local_Reparametrization/model.py\n",
    "#  ----------------------------------------------------\n",
    "import torch.nn.functional as F\n",
    "from torch.autograd import Variable\n",
    "\n",
    "def KLD_cost(mu_p, sig_p, mu_q, sig_q):\n",
    "    KLD = 0.5 * (2 * torch.log(sig_p / sig_q) - 1 + (sig_q / sig_p).pow(2) + ((mu_p - mu_q) / sig_p).pow(2)).sum()\n",
    "    # https://arxiv.org/abs/1312.6114 0.5 * sum(1 + log(sigma^2) - mu^2 - sigma^2)\n",
    "    return KLD\n",
    "\n",
    "class BayesLinear_localreparam(nn.Module):\n",
    "    \"\"\"Linear Layer where activations are sampled from a fully factorised normal which is given by aggregating\n",
    "     the moments of each weight's normal distribution. The KL divergence is obtained in closed form. Only works\n",
    "      with gaussian priors.\n",
    "    \"\"\"\n",
    "    def __init__(self, n_in, n_out, prior_sig=0.1**2):\n",
    "        super(BayesLinear_localreparam, self).__init__()\n",
    "        self.n_in = n_in\n",
    "        self.n_out = n_out\n",
    "        self.prior_sig = prior_sig\n",
    "\n",
    "        # Learnable parameters\n",
    "        self.W_mu = nn.Parameter(torch.Tensor(self.n_in, self.n_out).uniform_(-0.1, 0.1))        \n",
    "        torch.nn.init.xavier_uniform(self.W_mu.data)\n",
    "        #self.W_mu = nn.Parameter(torch.Tensor(self.n_in, self.n_out).xavier_uniform_())        \n",
    "        self.W_p = nn.Parameter(torch.Tensor(self.n_in, self.n_out).uniform_(-6, -5))\n",
    "\n",
    "        self.b_mu = nn.Parameter(torch.Tensor(self.n_out).uniform_(-1e-8, 1e-8))\n",
    "        self.b_p = nn.Parameter(torch.Tensor(self.n_out).uniform_(-6, -5))\n",
    "        self.bias = True\n",
    "\n",
    "    def forward(self, X, sample=False):\n",
    "        #         print(self.training)\n",
    "\n",
    "        if not self.training and not sample:  # This is just a placeholder function\n",
    "            #print('check weight sampling x')            \n",
    "            output = torch.mm(X, self.W_mu) + self.b_mu.expand(X.size()[0], self.n_out)\n",
    "            return output, 0, 0\n",
    "\n",
    "        else:\n",
    "            #print('check weight sampling o')\n",
    "            # calculate std\n",
    "            std_w = 1e-6 + F.softplus(self.W_p, beta=1, threshold=20)\n",
    "            std_b = 1e-6 + F.softplus(self.b_p, beta=1, threshold=20)\n",
    "\n",
    "            act_W_mu = torch.mm(X, self.W_mu)  # self.W_mu + std_w * eps_W\n",
    "            act_W_std = torch.sqrt(torch.mm(X.pow(2), std_w.pow(2)))\n",
    "\n",
    "            # Tensor.new()  Constructs a new tensor of the same data type as self tensor.\n",
    "            # the same random sample is used for every element in the minibatch output\n",
    "            eps_W = Variable(self.W_mu.data.new(act_W_std.size()).normal_(mean=0, std=1))\n",
    "            eps_b = Variable(self.b_mu.data.new(std_b.size()).normal_(mean=0, std=1))\n",
    "\n",
    "            act_W_out = act_W_mu + act_W_std * eps_W  # (batch_size, n_output)\n",
    "            act_b_out = self.b_mu + std_b * eps_b\n",
    "\n",
    "            output = act_W_out + act_b_out.unsqueeze(0).expand(X.shape[0], -1)\n",
    "\n",
    "            kld = KLD_cost(mu_p=0, sig_p=self.prior_sig, mu_q=self.W_mu, sig_q=std_w)  \n",
    "            kld = kld + KLD_cost(mu_p=0, sig_p=0.1, mu_q=self.b_mu,sig_q=std_b)\n",
    "            return output, kld, 0\n",
    "\n",
    "    def extra_repr(self) -> str:\n",
    "        return 'in_features={}, out_features={}, bias={}'.format(\n",
    "            self.n_in, self.n_out, self.bias is not None\n",
    "        )        \n",
    "    \n",
    "# Blinear1 = BayesLinear_localreparam(2,10)    \n",
    "# Blinear1"
   ]
  },
  {
   "cell_type": "code",
   "execution_count": 6,
   "metadata": {},
   "outputs": [],
   "source": [
    "#torch.uniform(-3, -2)\n",
    "#F.softplus(torch.tensor([-20.,-10.]), beta=1, threshold=20)"
   ]
  },
  {
   "cell_type": "code",
   "execution_count": 7,
   "metadata": {},
   "outputs": [],
   "source": [
    "class BayesMLP_Layer(nn.Module):\n",
    "    #def __init__(self,in_dim=1,out_dim=1,hdim = 50 ):\n",
    "    def __init__(self,in_dim=1,out_dim=1,hdim = 20 ):\n",
    "        \n",
    "        super(BayesMLP_Layer,self).__init__()\n",
    "\n",
    "        #self.in_dim = in_dim + 1\n",
    "        self.in_dim = in_dim + 1        \n",
    "        self.out_dim = out_dim\n",
    "        self.hdim = hdim\n",
    "\n",
    "#         linear1 = nn.Linear(self.in_dim,self.hdim )\n",
    "#         linear2 = nn.Linear(self.hdim,self.hdim)\n",
    "#         linear3 = nn.Linear(self.hdim,self.hdim)\n",
    "#         linear4 = nn.Linear(self.hdim,self.out_dim)\n",
    "\n",
    "#         activation =  nn.Tanh()\n",
    "#         linear = [linear1,\n",
    "#                   activation,\n",
    "#                   linear2,\n",
    "#                   activation,\n",
    "#                   linear3,\n",
    "#                   activation,\n",
    "#                   linear4]\n",
    "#         self.mapping = nn.Sequential(*linear)\n",
    "\n",
    "#         def init_weights(module):\n",
    "#             if isinstance(module, nn.Linear):\n",
    "#                 torch.nn.init.xavier_uniform(module.weight)\n",
    "#                 module.bias.data.fill_(0.0)\n",
    "                \n",
    "#        self.mapping.apply(init_weights)\n",
    "\n",
    "        self.act = nn.Tanh()\n",
    "        self.b_linear1 = BayesLinear_localreparam( self.in_dim,self.hdim )\n",
    "        self.b_linear2 = BayesLinear_localreparam( self.hdim,self.hdim )\n",
    "        self.b_linear3 = BayesLinear_localreparam( self.hdim,self.hdim )\n",
    "        self.b_linear4 = BayesLinear_localreparam( self.hdim,self.out_dim )\n",
    "        \n",
    "                \n",
    "    def forward(self, x ,use_sample = True):                \n",
    "        need_reshape = False\n",
    "        tlqw ,tlpw = 0,0\n",
    "        \n",
    "        if x.dim() == 3:\n",
    "            nb,ndata,ndim = x.shape\n",
    "            x = x.reshape(-1,ndim)\n",
    "            need_reshape=True\n",
    "            \n",
    "        #--------------------------\n",
    "        #layer 1\n",
    "        #--------------------------        \n",
    "        x, lqw, lpw = self.b_linear1(x,use_sample)\n",
    "        tlqw = tlqw + lqw\n",
    "        tlpw = tlpw + lpw\n",
    "        x = self.act(x)        \n",
    "        #--------------------------\n",
    "        #layer 2\n",
    "        #--------------------------        \n",
    "        x, lqw, lpw = self.b_linear2(x,use_sample)\n",
    "        tlqw = tlqw + lqw\n",
    "        tlpw = tlpw + lpw\n",
    "        x = self.act(x)        \n",
    "        #--------------------------\n",
    "        #layer 3\n",
    "        #--------------------------        \n",
    "        x, lqw, lpw = self.b_linear3(x,use_sample)\n",
    "        tlqw = tlqw + lqw\n",
    "        tlpw = tlpw + lpw\n",
    "        x = self.act(x)\n",
    "        #--------------------------\n",
    "        #layer 4\n",
    "        #--------------------------        \n",
    "        y, lqw, lpw = self.b_linear4(x,use_sample)\n",
    "        tlqw = tlqw + lqw\n",
    "        tlpw = tlpw + lpw\n",
    "        \n",
    "        if need_reshape:\n",
    "            y = y.reshape(nb,ndata,self.out_dim)                \n",
    "            \n",
    "        return y, tlqw, tlpw\n",
    "    \n",
    "    \n",
    "    "
   ]
  },
  {
   "cell_type": "code",
   "execution_count": 8,
   "metadata": {},
   "outputs": [],
   "source": [
    "#xt_bd.size().item()"
   ]
  },
  {
   "cell_type": "code",
   "execution_count": null,
   "metadata": {},
   "outputs": [],
   "source": []
  },
  {
   "cell_type": "code",
   "execution_count": 9,
   "metadata": {},
   "outputs": [],
   "source": [
    "#--------------------------------------------------------\n",
    "# reference:\n",
    "# https://github.com/JavierAntoran/Bayesian-Neural-Networks/blob/master/src/Bayes_By_Backprop_Local_Reparametrization/model.py\n",
    "#--------------------------------------------------------\n",
    "class PINN_BBB(PINN_Basic):\n",
    "    \n",
    "    def __init__(self,nn_model, pdetype = 'v1',num_sample_intrain=5, num_sample_intest=10, eps=1e-16):\n",
    "    #def __init__(self,in_dim = 1, out_dim = 1, pdetype = 'v1',num_sample_intrain=5, num_sample_intest=10, eps=1e-16):\n",
    "        \n",
    "        super(PINN_BBB,self).__init__(nn_model, pdetype)\n",
    "\n",
    "        #self.nn_model =  BayesMLP_Layer(in_dim = in_dim,out_dim = out_dim)\n",
    "        self.num_sample_intrain = num_sample_intrain\n",
    "        self.num_sample_intest = num_sample_intest\n",
    "\n",
    "    def compute_preddist(self,xt,num_sample=10):        \n",
    "        pred_list = []\n",
    "        for _ in range(num_sample):\n",
    "            pred_list.append(self.forward(xt)[0].unsqueeze(dim=-1))\n",
    "        pred_list = torch.cat(pred_list,dim=-1)    \n",
    "        emp_pmu = pred_list.mean(dim=-1) \n",
    "        emp_pstd = pred_list.std(dim=-1) \n",
    "        \n",
    "        #return emp_pmu,emp_pstd,pred_list\n",
    "        return emp_pmu,emp_pstd\n",
    "\n",
    "    \n",
    "\n",
    "    def forward(self,xt,use_sample=True):        \n",
    "        u_xt, tlqw, tlpw = self.nn_model(xt,use_sample)                            \n",
    "        return u_xt, tlqw, tlpw\n",
    "    \n",
    "\n",
    "    def compute_loss(self,xt_rd,y_rd,xt_init,u_init,xt_bd,u_bd):\n",
    "        loss_rd,reg_rd = 0,0\n",
    "        loss_init,reg_init = 0,0\n",
    "        loss_bd,reg_bd = 0,0\n",
    "        \n",
    "        for i in range(self.num_sample_intrain):        \n",
    "            i_loss_rd,i_reg_rd      = self.compute_pdeloss_rd(xt_rd,y_rd)            \n",
    "            loss_rd = loss_rd + i_loss_rd\n",
    "            reg_rd = reg_rd + i_reg_rd\n",
    "            \n",
    "            i_loss_init,i_reg_init  = self.compute_pdeloss_bdinit(xt_init,u_init)\n",
    "            loss_init = loss_init + i_loss_init\n",
    "            reg_init = reg_init + i_reg_init\n",
    "\n",
    "            i_loss_bd,i_reg_bd      = self.compute_pdeloss_bdinit(xt_bd,u_bd)        \n",
    "            loss_bd = loss_bd + i_loss_bd\n",
    "            reg_bd = reg_bd + i_reg_bd\n",
    "            \n",
    "        loss_rd, reg_rd = loss_rd/self.num_sample_intrain, reg_rd/self.num_sample_intrain    \n",
    "        loss_init, reg_init = loss_init/self.num_sample_intrain, reg_init/self.num_sample_intrain    \n",
    "        loss_bd, reg_bd = loss_bd/self.num_sample_intrain, reg_bd/self.num_sample_intrain    \n",
    "        \n",
    "        return (loss_rd,reg_rd),(loss_init,reg_init),(loss_bd,reg_bd)\n",
    "\n",
    "    \n",
    "    def compute_pdeloss_rd(self,xt,y):        \n",
    "        xt_grad = xt.clone()\n",
    "        xt_grad.requires_grad = True\n",
    "\n",
    "        u, tlqw, tlpw = self.nn_model(xt_grad)                \n",
    "        # ------------------------------        \n",
    "        # compute regloss by prior\n",
    "        # ------------------------------        \n",
    "        nbatch = np.prod(xt_bd.shape[:2])\n",
    "        reg_loss = (tlqw - tlpw)/nbatch\n",
    "\n",
    "        # ------------------------------\n",
    "        # compute pde bd loss\n",
    "        # ------------------------------        \n",
    "        du_dxt= autograd.grad(u,xt_grad,torch.ones_like(u).to(u.device),retain_graph=True,create_graph=True)[0]\n",
    "        du_dx_dxt = autograd.grad(du_dxt[:,:,:-1],xt_grad,torch.ones_like(du_dxt[:,:,:-1]).to(xt_grad.device),retain_graph=True,create_graph=True)[0]\n",
    "        du_dx = du_dxt[:,:,:-1]\n",
    "        du_dxx = du_dx_dxt[:,:,:-1]\n",
    "\n",
    "        # compute loss depending on pde\n",
    "        pde_loss = self.mse_loss(0.01*du_dxx,y)\n",
    "            \n",
    "        return pde_loss,reg_loss\n",
    "    \n",
    "    \n",
    "    def compute_pdeloss_bdinit(self,xt,y):        \n",
    "        u, tlqw, tlpw = self.nn_model(xt)\n",
    "        # ------------------------------\n",
    "        # compute regloss by prior        \n",
    "        # ------------------------------        \n",
    "        nbatch = np.prod(xt_bd.shape[:2])\n",
    "        reg_loss = (tlqw - tlpw)/nbatch\n",
    "        \n",
    "        # ------------------------------\n",
    "        # compute pde init loss\n",
    "        # ------------------------------                \n",
    "        # compute loss depending on pde\n",
    "        pde_loss = self.mse_loss(u,y)\n",
    "        \n",
    "        return pde_loss,reg_loss    \n"
   ]
  },
  {
   "cell_type": "code",
   "execution_count": null,
   "metadata": {},
   "outputs": [],
   "source": []
  },
  {
   "cell_type": "code",
   "execution_count": null,
   "metadata": {},
   "outputs": [],
   "source": []
  },
  {
   "cell_type": "markdown",
   "metadata": {},
   "source": [
    "## target problem: 1d nonlinear Poisson equation"
   ]
  },
  {
   "cell_type": "code",
   "execution_count": 10,
   "metadata": {},
   "outputs": [
    {
     "data": {
      "text/plain": [
       "AttrDict({'in_dim': 1, 'out_dim': 1, 'noisestd': 0.01, 'nb': 8, 'nobs': 32, 'xmin': -0.7, 'xmax': 0.7, 'tmin': 0, 'tmax': 1})"
      ]
     },
     "execution_count": 10,
     "metadata": {},
     "output_type": "execute_result"
    }
   ],
   "source": [
    "#---------------------------------\n",
    "# data configuration\n",
    "#---------------------------------\n",
    "dataconfig = AttrDict()\n",
    "\n",
    "dataconfig.in_dim,dataconfig.out_dim  = 1,1\n",
    "#dataconfig.noisestd = .5\n",
    "#dataconfig.noisestd = 0.25\n",
    "#dataconfig.noisestd = 0.1\n",
    "dataconfig.noisestd = 0.01\n",
    "\n",
    "#nb,nobs = 16,16 #(nsensors=16)\n",
    "\n",
    "dataconfig.nb,dataconfig.nobs = 8,32 #(nsensors=32)\n",
    "\n",
    "dataconfig.xmin,dataconfig.xmax = -0.7,0.7\n",
    "dataconfig.tmin,dataconfig.tmax = 0,1\n",
    "\n",
    "dataconfig"
   ]
  },
  {
   "cell_type": "code",
   "execution_count": 11,
   "metadata": {},
   "outputs": [],
   "source": [
    "def gen_obs(dataconfig):\n",
    "    \n",
    "    u = lambda x: torch.pow(torch.sin(6*x),3)\n",
    "    f = lambda x: (6**3)*torch.sin(6*x)*torch.pow(torch.cos(6*x),2) - 3*(6**2)*torch.pow(torch.sin(6*x),3)\n",
    "  \n",
    "    # ----------------------------\n",
    "    # gen datset on rd\n",
    "    # ----------------------------    \n",
    "    x = dataconfig.xmin  + (dataconfig.xmax  - dataconfig.xmin)* torch.rand(dataconfig.nb,dataconfig.nobs,dataconfig.in_dim )\n",
    "    g_noise = dataconfig.noisestd*torch.randn(dataconfig.nb,dataconfig.nobs,dataconfig.in_dim )\n",
    "    t = (dataconfig.tmax  - dataconfig.tmin)* torch.rand(dataconfig.nb,1,1 ).repeat(1,dataconfig.nobs,1)\n",
    "\n",
    "    f_xt = f(x)\n",
    "    y_rd = 0.01*f_xt + g_noise     \n",
    "    xt_rd = torch.cat([x,t],dim=-1)\n",
    "    \n",
    "\n",
    "    # ----------------------------\n",
    "    # gen datset on init\n",
    "    # ----------------------------    \n",
    "    x = dataconfig.xmin  + (dataconfig.xmax  - dataconfig.xmin)* torch.rand(dataconfig.nb,dataconfig.nobs,dataconfig.in_dim )\n",
    "    g_noise = dataconfig.noisestd*torch.randn(dataconfig.nb,dataconfig.nobs,dataconfig.in_dim )\n",
    "    t = 0*torch.rand(dataconfig.nb,1,1 ).repeat(1,dataconfig.nobs,1)\n",
    "    u_init = u(x)\n",
    "    xt_init = torch.cat([x,t],dim=-1)\n",
    "\n",
    "    # ----------------------------\n",
    "    # gen datset on bd\n",
    "    # ----------------------------    \n",
    "    x = torch.cat([dataconfig.xmin* torch.ones(dataconfig.nb,dataconfig.nobs//2,dataconfig.in_dim ),\n",
    "                   dataconfig.xmax* torch.ones(dataconfig.nb,dataconfig.nobs//2,dataconfig.in_dim )],dim=-2)\n",
    "     \n",
    "    #g_noise = dataconfig.noisestd*torch.randn(dataconfig.nb,dataconfig.nobs,dataconfig.in_dim )\n",
    "    t = torch.rand(dataconfig.nb,dataconfig.nobs,1  )\n",
    "    u_bd = u(x)\n",
    "    #y_bd = u_bd      \n",
    "    xt_bd = torch.cat([x,t],dim=-1)\n",
    "        \n",
    "    return (xt_rd,y_rd,f_xt),(xt_init,u_init),(xt_bd,u_bd)    \n",
    "\n",
    "\n",
    "    "
   ]
  },
  {
   "cell_type": "code",
   "execution_count": 12,
   "metadata": {},
   "outputs": [
    {
     "data": {
      "text/plain": [
       "AttrDict({'in_dim': 1, 'out_dim': 1, 'noisestd': 0.01, 'nb': 8, 'nobs': 32, 'xmin': -0.7, 'xmax': 0.7, 'tmin': 0, 'tmax': 1})"
      ]
     },
     "execution_count": 12,
     "metadata": {},
     "output_type": "execute_result"
    }
   ],
   "source": [
    "dataconfig"
   ]
  },
  {
   "cell_type": "code",
   "execution_count": 13,
   "metadata": {},
   "outputs": [
    {
     "data": {
      "text/plain": [
       "<matplotlib.collections.PathCollection at 0x7f2c9e6e1e48>"
      ]
     },
     "execution_count": 13,
     "metadata": {},
     "output_type": "execute_result"
    },
    {
     "data": {
      "image/png": "[encoded data removed]",
      "text/plain": [
       "<Figure size 432x288 with 1 Axes>"
      ]
     },
     "metadata": {
      "needs_background": "light"
     },
     "output_type": "display_data"
    }
   ],
   "source": [
    "rd_set,init_set,bd_set = gen_obs(dataconfig)\n",
    "\n",
    "xt_rd,y_rd,f = rd_set\n",
    "xt_init,u_init = init_set\n",
    "xt_bd,u_bd = bd_set\n",
    "\n",
    "bidx = 1\n",
    "plt.scatter(xt_rd[bidx,:,0].cpu().data.numpy(),y_rd[bidx,:,0].cpu().data.numpy())\n",
    "plt.scatter(xt_init[bidx,:,0].cpu().data.numpy(),u_init[bidx,:,0].cpu().data.numpy())\n",
    "plt.scatter(xt_bd[bidx,:,0].cpu().data.numpy(),u_bd[bidx,:,0].cpu().data.numpy())\n",
    "\n",
    "#plt.scatter(xt_init[:,0].cpu().data.numpy(),u_init[:,0].cpu().data.numpy())\n",
    "# plt.scatter(xt[:,0].cpu().data.numpy(),f[:,0].cpu().data.numpy())\n"
   ]
  },
  {
   "cell_type": "code",
   "execution_count": 14,
   "metadata": {},
   "outputs": [],
   "source": [
    "# bayes_mlp = BayesMLP_Layer(in_dim = 1, out_dim=1)\n",
    "# bayes_mlp"
   ]
  },
  {
   "cell_type": "code",
   "execution_count": 15,
   "metadata": {},
   "outputs": [],
   "source": [
    "#bayes_mlp"
   ]
  },
  {
   "cell_type": "code",
   "execution_count": null,
   "metadata": {},
   "outputs": [],
   "source": []
  },
  {
   "cell_type": "code",
   "execution_count": 16,
   "metadata": {},
   "outputs": [],
   "source": [
    "#len(rd_set[:-1])"
   ]
  },
  {
   "cell_type": "code",
   "execution_count": 17,
   "metadata": {},
   "outputs": [
    {
     "name": "stderr",
     "output_type": "stream",
     "text": [
      "/home/yohan/Myenv/lib/python3.6/site-packages/ipykernel_launcher.py:25: UserWarning: nn.init.xavier_uniform is now deprecated in favor of nn.init.xavier_uniform_.\n",
      "/home/yohan/Myenv/lib/python3.6/site-packages/torch/nn/_reduction.py:42: UserWarning: size_average and reduce args will be deprecated, please use reduction='mean' instead.\n",
      "  warnings.warn(warning.format(ret))\n"
     ]
    },
    {
     "data": {
      "text/plain": [
       "PINN_BBB(\n",
       "  (nn_model): BayesMLP_Layer(\n",
       "    (act): Tanh()\n",
       "    (b_linear1): BayesLinear_localreparam(in_features=2, out_features=20, bias=True)\n",
       "    (b_linear2): BayesLinear_localreparam(in_features=20, out_features=20, bias=True)\n",
       "    (b_linear3): BayesLinear_localreparam(in_features=20, out_features=20, bias=True)\n",
       "    (b_linear4): BayesLinear_localreparam(in_features=20, out_features=1, bias=True)\n",
       "  )\n",
       "  (mse_loss): MSELoss()\n",
       ")"
      ]
     },
     "execution_count": 17,
     "metadata": {},
     "output_type": "execute_result"
    }
   ],
   "source": [
    "# mlp_layer = MLP_Layer(in_dim = 1, out_dim=1)\n",
    "# mlp_layer\n",
    "#model = PINN_Basic( MLP_Layer(in_dim = 1, out_dim=1) )\n",
    "#model = PINN_SWAG( MLP_Layer(in_dim = 1, out_dim=1) )\n",
    "model = PINN_BBB( BayesMLP_Layer(in_dim = 1, out_dim=1))\n",
    "#model = PINN_BBB( in_dim = 1,out_dim = 1)\n",
    "\n",
    "model"
   ]
  },
  {
   "cell_type": "code",
   "execution_count": 18,
   "metadata": {},
   "outputs": [],
   "source": [
    "trainconfig = AttrDict()\n",
    "\n",
    "trainconfig.nepochs = 2000\n",
    "trainconfig.lr = 1e-3\n",
    "trainconfig.weightdecay = 1e-4\n",
    "trainconfig.obsperiod = 50\n",
    "\n",
    "trainconfig.swag_init_rate = .5\n",
    "trainconfig.swag_start_nepochs = int(trainconfig.nepochs*trainconfig.swag_init_rate)\n",
    "trainconfig.swag_updateperiod = 25\n",
    "\n",
    "#trainconfig.bbb_reglambda = 1e-4\n",
    "trainconfig.bbb_reglambda = 5e-5\n",
    "\n",
    "optimizer = torch.optim.Adam(model.parameters(), lr=trainconfig.lr,weight_decay=trainconfig.weightdecay)\n"
   ]
  },
  {
   "cell_type": "code",
   "execution_count": 19,
   "metadata": {},
   "outputs": [],
   "source": [
    "# loss_rd,loss_init,loss_bd"
   ]
  },
  {
   "cell_type": "code",
   "execution_count": 20,
   "metadata": {},
   "outputs": [],
   "source": [
    "#loss_rd,loss_init,loss_bd = model.compute_loss(*rd_set[:-1],*init_set,*bd_set)"
   ]
  },
  {
   "cell_type": "code",
   "execution_count": 21,
   "metadata": {},
   "outputs": [
    {
     "name": "stdout",
     "output_type": "stream",
     "text": [
      "[50 /2000]: loss 0.63, loss_data 0.55, reglam*loss_reg 0.08, loss_reg 1669.41\n",
      "[100 /2000]: loss 0.63, loss_data 0.56, reglam*loss_reg 0.08, loss_reg 1551.20\n",
      "[150 /2000]: loss 0.58, loss_data 0.51, reglam*loss_reg 0.07, loss_reg 1450.46\n",
      "[200 /2000]: loss 0.57, loss_data 0.50, reglam*loss_reg 0.07, loss_reg 1387.40\n",
      "[250 /2000]: loss 0.55, loss_data 0.48, reglam*loss_reg 0.07, loss_reg 1389.62\n",
      "[300 /2000]: loss 0.49, loss_data 0.41, reglam*loss_reg 0.07, loss_reg 1445.57\n",
      "[350 /2000]: loss 0.43, loss_data 0.36, reglam*loss_reg 0.07, loss_reg 1482.07\n",
      "[400 /2000]: loss 0.40, loss_data 0.33, reglam*loss_reg 0.07, loss_reg 1472.48\n",
      "[450 /2000]: loss 0.39, loss_data 0.32, reglam*loss_reg 0.07, loss_reg 1432.21\n",
      "[500 /2000]: loss 0.37, loss_data 0.30, reglam*loss_reg 0.07, loss_reg 1408.09\n",
      "[550 /2000]: loss 0.36, loss_data 0.29, reglam*loss_reg 0.07, loss_reg 1416.76\n",
      "[600 /2000]: loss 0.32, loss_data 0.25, reglam*loss_reg 0.07, loss_reg 1457.65\n",
      "[650 /2000]: loss 0.30, loss_data 0.23, reglam*loss_reg 0.07, loss_reg 1480.44\n",
      "[700 /2000]: loss 0.30, loss_data 0.22, reglam*loss_reg 0.08, loss_reg 1502.44\n",
      "[750 /2000]: loss 0.29, loss_data 0.22, reglam*loss_reg 0.08, loss_reg 1528.54\n",
      "[800 /2000]: loss 0.27, loss_data 0.19, reglam*loss_reg 0.08, loss_reg 1554.50\n",
      "[850 /2000]: loss 0.25, loss_data 0.17, reglam*loss_reg 0.08, loss_reg 1567.33\n",
      "[900 /2000]: loss 0.25, loss_data 0.17, reglam*loss_reg 0.08, loss_reg 1564.98\n",
      "[950 /2000]: loss 0.23, loss_data 0.15, reglam*loss_reg 0.08, loss_reg 1557.14\n",
      "[1000 /2000]: loss 0.22, loss_data 0.14, reglam*loss_reg 0.08, loss_reg 1541.72\n",
      "[1050 /2000]: loss 0.23, loss_data 0.16, reglam*loss_reg 0.08, loss_reg 1526.84\n",
      "[1100 /2000]: loss 0.26, loss_data 0.18, reglam*loss_reg 0.08, loss_reg 1511.52\n",
      "[1150 /2000]: loss 0.23, loss_data 0.15, reglam*loss_reg 0.07, loss_reg 1494.84\n",
      "[1200 /2000]: loss 0.23, loss_data 0.15, reglam*loss_reg 0.07, loss_reg 1480.49\n",
      "[1250 /2000]: loss 0.22, loss_data 0.15, reglam*loss_reg 0.07, loss_reg 1469.27\n",
      "[1300 /2000]: loss 0.23, loss_data 0.16, reglam*loss_reg 0.07, loss_reg 1452.45\n",
      "[1350 /2000]: loss 0.22, loss_data 0.15, reglam*loss_reg 0.07, loss_reg 1437.79\n",
      "[1400 /2000]: loss 0.23, loss_data 0.15, reglam*loss_reg 0.07, loss_reg 1428.66\n",
      "[1450 /2000]: loss 0.23, loss_data 0.16, reglam*loss_reg 0.07, loss_reg 1418.12\n",
      "[1500 /2000]: loss 0.23, loss_data 0.16, reglam*loss_reg 0.07, loss_reg 1408.10\n",
      "[1550 /2000]: loss 0.22, loss_data 0.15, reglam*loss_reg 0.07, loss_reg 1404.59\n",
      "[1600 /2000]: loss 0.20, loss_data 0.13, reglam*loss_reg 0.07, loss_reg 1395.26\n",
      "[1650 /2000]: loss 0.22, loss_data 0.15, reglam*loss_reg 0.07, loss_reg 1389.53\n",
      "[1700 /2000]: loss 0.24, loss_data 0.17, reglam*loss_reg 0.07, loss_reg 1389.14\n",
      "[1750 /2000]: loss 0.23, loss_data 0.17, reglam*loss_reg 0.07, loss_reg 1384.82\n",
      "[1800 /2000]: loss 0.22, loss_data 0.16, reglam*loss_reg 0.07, loss_reg 1384.09\n",
      "[1850 /2000]: loss 0.24, loss_data 0.17, reglam*loss_reg 0.07, loss_reg 1382.36\n",
      "[1900 /2000]: loss 0.22, loss_data 0.15, reglam*loss_reg 0.07, loss_reg 1379.09\n",
      "[1950 /2000]: loss 0.24, loss_data 0.17, reglam*loss_reg 0.07, loss_reg 1380.85\n",
      "[2000 /2000]: loss 0.23, loss_data 0.16, reglam*loss_reg 0.07, loss_reg 1379.14\n"
     ]
    }
   ],
   "source": [
    "model.train()\n",
    "for j in range(1,trainconfig.nepochs+1):\n",
    "    rd_set,init_set,bd_set = gen_obs(dataconfig)\n",
    "    loss_rd,loss_init,loss_bd = model.compute_loss(*rd_set[:-1],*init_set,*bd_set)\n",
    "    \n",
    "    loss_data = loss_rd[0] + 0.5*(loss_init[0] + loss_bd[0]) \n",
    "    loss_reg = loss_rd[1] + 0.5*(loss_init[1] + loss_bd[1])\n",
    "    loss = loss_data + trainconfig.bbb_reglambda*loss_reg\n",
    "        \n",
    "    #update model params\n",
    "    optimizer.zero_grad()        \n",
    "    loss.backward()\n",
    "    optimizer.step()\n",
    "    \n",
    "#     if (trainconfig.start_nepochs <= j and\n",
    "#        (j - trainconfig.start_nepochs) % trainconfig.updateperiod== 0\n",
    "#     ):\n",
    "#         print('update at {}'.format(j))\n",
    "#         model.collect_model()\n",
    "\n",
    "        \n",
    "    if j % trainconfig.obsperiod  == 0:\n",
    "        print('[{} /{}]: loss {:.2f}, loss_data {:.2f}, reglam*loss_reg {:.2f}, loss_reg {:.2f}'.\n",
    "              format(j,trainconfig.nepochs,loss,loss_data,trainconfig.bbb_reglambda*loss_reg,loss_reg))\n",
    "        #print('[{} /{}]: tr loss: {:.2f} \\t {:.2f},{:.2f},{:.2f}'.format(j,trainconfig.nepochs,loss,loss_rd,loss_init,loss_bd))\n",
    "        "
   ]
  },
  {
   "cell_type": "markdown",
   "metadata": {},
   "source": [
    "## eval mode"
   ]
  },
  {
   "cell_type": "code",
   "execution_count": 22,
   "metadata": {},
   "outputs": [
    {
     "data": {
      "text/plain": [
       "PINN_BBB(\n",
       "  (nn_model): BayesMLP_Layer(\n",
       "    (act): Tanh()\n",
       "    (b_linear1): BayesLinear_localreparam(in_features=2, out_features=20, bias=True)\n",
       "    (b_linear2): BayesLinear_localreparam(in_features=20, out_features=20, bias=True)\n",
       "    (b_linear3): BayesLinear_localreparam(in_features=20, out_features=20, bias=True)\n",
       "    (b_linear4): BayesLinear_localreparam(in_features=20, out_features=1, bias=True)\n",
       "  )\n",
       "  (mse_loss): MSELoss()\n",
       ")"
      ]
     },
     "execution_count": 22,
     "metadata": {},
     "output_type": "execute_result"
    }
   ],
   "source": [
    "model.eval()"
   ]
  },
  {
   "cell_type": "code",
   "execution_count": 23,
   "metadata": {},
   "outputs": [],
   "source": [
    "rd_set,init_set,bd_set = gen_obs(dataconfig)\n",
    "\n",
    "xt_rd,y_rd,f = rd_set\n",
    "xt_init,u_init = init_set\n",
    "xt_bd,u_bd = bd_set"
   ]
  },
  {
   "cell_type": "code",
   "execution_count": 28,
   "metadata": {},
   "outputs": [],
   "source": [
    "pred_mu,pred_std = model.compute_preddist(xt_rd,num_sample=10)\n"
   ]
  },
  {
   "cell_type": "code",
   "execution_count": 29,
   "metadata": {},
   "outputs": [],
   "source": [
    "#pred_std"
   ]
  },
  {
   "cell_type": "code",
   "execution_count": 52,
   "metadata": {},
   "outputs": [
    {
     "data": {
      "image/png": "[encoded data removed]",
      "text/plain": [
       "<Figure size 432x288 with 1 Axes>"
      ]
     },
     "metadata": {
      "needs_background": "light"
     },
     "output_type": "display_data"
    },
    {
     "data": {
      "image/png": "[encoded data removed]",
      "text/plain": [
       "<Figure size 432x288 with 1 Axes>"
      ]
     },
     "metadata": {
      "needs_background": "light"
     },
     "output_type": "display_data"
    },
    {
     "data": {
      "image/png": "[encoded data removed]",
      "text/plain": [
       "<Figure size 432x288 with 1 Axes>"
      ]
     },
     "metadata": {
      "needs_background": "light"
     },
     "output_type": "display_data"
    },
    {
     "data": {
      "image/png": "[encoded data removed]",
      "text/plain": [
       "<Figure size 432x288 with 1 Axes>"
      ]
     },
     "metadata": {
      "needs_background": "light"
     },
     "output_type": "display_data"
    }
   ],
   "source": [
    "#for x_rd,y_rd,u_rd in xt_rd,u:\n",
    "#figure()\n",
    "for j in range(4):\n",
    "    #model.sample()\n",
    "    #uxt_rd = model(xt_rd)\n",
    "\n",
    "    fig = plt.figure()\n",
    "    #plt.scatter(xt_rd[j,:,0].cpu().data.numpy(),uxt_rd[j,:,0].cpu().data.numpy(),color='b')\n",
    "    plt.scatter(xt_rd[j,:,0].cpu().data.numpy(),pred_mu[j,:,0].cpu().data.numpy(),s=50,color='b')\n",
    "    plt.scatter(xt_rd[j,:,0].cpu().data.numpy(),(pred_mu-2*pred_std)[j,:,0].cpu().data.numpy(),s=10,color='b')\n",
    "    plt.scatter(xt_rd[j,:,0].cpu().data.numpy(),(pred_mu+2*pred_std)[j,:,0].cpu().data.numpy(),s=10,color='b')\n",
    "    \n",
    "    plt.scatter(xt_init[j,:,0].cpu().data.numpy(),u_init[j,:,0].cpu().data.numpy(),color='r')\n",
    "    plt.scatter(xt_bd[j,:,0].cpu().data.numpy(),u_bd[j,:,0].cpu().data.numpy())\n",
    "    \n",
    "    plt.show()\n",
    "    \n",
    "    \n",
    "#plt.scatter(xt_rd[0,:,0].cpu().data.numpy(),f[0,:,0].cpu().data.numpy(),zorder=2)\n",
    "#plt.scatter(xt_rd[1,:,0].cpu().data.numpy(),rd_set[2][1,:,0].cpu().data.numpy())\n",
    "\n",
    "    \n",
    "# for x_rd,y_rd,u_rd in xt_rd,u:\n",
    "#     figure()\n",
    "#     plt.scatter(xt_rd[0,:,0].cpu().data.numpy(),uxt_rd[1,:,0].cpu().data.numpy())\n",
    "#     plt.scatter(xt_rd[1,:,0].cpu().data.numpy(),rd_set[2][1,:,0].cpu().data.numpy())\n"
   ]
  },
  {
   "cell_type": "code",
   "execution_count": 30,
   "metadata": {},
   "outputs": [],
   "source": [
    "#rd_set"
   ]
  },
  {
   "cell_type": "code",
   "execution_count": null,
   "metadata": {},
   "outputs": [],
   "source": []
  },
  {
   "cell_type": "code",
   "execution_count": null,
   "metadata": {},
   "outputs": [],
   "source": []
  },
  {
   "cell_type": "code",
   "execution_count": null,
   "metadata": {},
   "outputs": [],
   "source": []
  },
  {
   "cell_type": "code",
   "execution_count": null,
   "metadata": {},
   "outputs": [],
   "source": []
  }
 ],
 "metadata": {
  "kernelspec": {
   "display_name": "Python 3",
   "language": "python",
   "name": "python3"
  },
  "language_info": {
   "codemirror_mode": {
    "name": "ipython",
    "version": 3
   },
   "file_extension": ".py",
   "mimetype": "text/x-python",
   "name": "python",
   "nbconvert_exporter": "python",
   "pygments_lexer": "ipython3",
   "version": "3.6.8"
  }
 },
 "nbformat": 4,
 "nbformat_minor": 4
}
