{
 "cells": [
  {
   "cell_type": "code",
   "execution_count": 1,
   "metadata": {},
   "outputs": [],
   "source": [
    "import torch \n",
    "import torch.autograd as autograd\n",
    "import torch.nn as nn\n",
    "import torch.optim as optim\n",
    "\n",
    "from attrdict import AttrDict\n",
    "import numpy as np\n",
    "import random\n",
    "\n",
    "import matplotlib.pyplot as plt"
   ]
  },
  {
   "cell_type": "code",
   "execution_count": null,
   "metadata": {},
   "outputs": [],
   "source": []
  },
  {
   "cell_type": "code",
   "execution_count": 2,
   "metadata": {},
   "outputs": [],
   "source": [
    "args = AttrDict()\n",
    "args.seeds = 1111"
   ]
  },
  {
   "cell_type": "code",
   "execution_count": 3,
   "metadata": {},
   "outputs": [],
   "source": [
    "random_seed = args.seeds\n",
    "torch.manual_seed(random_seed)\n",
    "random.seed(random_seed)\n",
    "np.random.seed(random_seed)\n",
    "torch.backends.cudnn.deterministic = True\n",
    "torch.backends.cudnn.benchmark = False\n"
   ]
  },
  {
   "cell_type": "code",
   "execution_count": 4,
   "metadata": {
    "tags": []
   },
   "outputs": [],
   "source": [
    "\n",
    "# class Linear_MCdrop(nn.Module):\n",
    "#     \"\"\"Linear Layer where activations are sampled from a fully factorised normal which is given by aggregating\n",
    "#      the moments of each weight's normal distribution. The KL divergence is obtained in closed form. Only works\n",
    "#       with gaussian priors.\n",
    "#     \"\"\"\n",
    "#     def __init__(self, n_in, n_out, prior_sig=0.1**2):\n",
    "#         super(Linear_MCdrop, self).__init__()\n",
    "#         self.n_in = n_in\n",
    "#         self.n_out = n_out\n",
    "#         self.prior_sig = prior_sig\n",
    "\n",
    "#         # Learnable parameters\n",
    "#         self.W_mu = nn.Parameter(torch.Tensor(self.n_in, self.n_out).uniform_(-0.1, 0.1))        \n",
    "#         torch.nn.init.xavier_uniform(self.W_mu.data)\n",
    "#         #self.W_mu = nn.Parameter(torch.Tensor(self.n_in, self.n_out).xavier_uniform_())        \n",
    "#         self.W_p = nn.Parameter(torch.Tensor(self.n_in, self.n_out).uniform_(-6, -5))\n",
    "\n",
    "#         self.b_mu = nn.Parameter(torch.Tensor(self.n_out).uniform_(-1e-8, 1e-8))\n",
    "#         self.b_p = nn.Parameter(torch.Tensor(self.n_out).uniform_(-6, -5))\n",
    "#         self.bias = True\n",
    "\n",
    "#     def forward(self, X, sample=False):\n",
    "#         #         print(self.training)\n",
    "\n",
    "#         if not self.training and not sample:  # This is just a placeholder function\n",
    "#             #print('check weight sampling x')            \n",
    "#             output = torch.mm(X, self.W_mu) + self.b_mu.expand(X.size()[0], self.n_out)\n",
    "#             return output, 0, 0\n",
    "\n",
    "#         else:\n",
    "#             #print('check weight sampling o')\n",
    "#             # calculate std\n",
    "#             std_w = 1e-6 + F.softplus(self.W_p, beta=1, threshold=20)\n",
    "#             std_b = 1e-6 + F.softplus(self.b_p, beta=1, threshold=20)\n",
    "\n",
    "#             act_W_mu = torch.mm(X, self.W_mu)  # self.W_mu + std_w * eps_W\n",
    "#             act_W_std = torch.sqrt(torch.mm(X.pow(2), std_w.pow(2)))\n",
    "\n",
    "#             # Tensor.new()  Constructs a new tensor of the same data type as self tensor.\n",
    "#             # the same random sample is used for every element in the minibatch output\n",
    "#             eps_W = Variable(self.W_mu.data.new(act_W_std.size()).normal_(mean=0, std=1))\n",
    "#             eps_b = Variable(self.b_mu.data.new(std_b.size()).normal_(mean=0, std=1))\n",
    "\n",
    "#             act_W_out = act_W_mu + act_W_std * eps_W  # (batch_size, n_output)\n",
    "#             act_b_out = self.b_mu + std_b * eps_b\n",
    "\n",
    "#             output = act_W_out + act_b_out.unsqueeze(0).expand(X.shape[0], -1)\n",
    "\n",
    "#             kld = KLD_cost(mu_p=0, sig_p=self.prior_sig, mu_q=self.W_mu, sig_q=std_w)  \n",
    "#             kld = kld + KLD_cost(mu_p=0, sig_p=0.1, mu_q=self.b_mu,sig_q=std_b)\n",
    "#             return output, kld, 0\n",
    "\n",
    "#     def extra_repr(self) -> str:\n",
    "#         return 'in_features={}, out_features={}, bias={}'.format(\n",
    "#             self.n_in, self.n_out, self.bias is not None\n",
    "#         )        \n",
    "    "
   ]
  },
  {
   "cell_type": "code",
   "execution_count": 5,
   "metadata": {},
   "outputs": [],
   "source": [
    "def MC_dropout(act_vec, p=0.5, mask=True):\n",
    "    return F.dropout(act_vec, p=p, training=mask, inplace=True)\n",
    "\n",
    "\n",
    "class MLP_Layer_MCdrop(nn.Module):\n",
    "    def __init__(self,in_dim=1,out_dim=1,hdim = 50 , p=0.01):\n",
    "        super(MLP_Layer_MCdrop,self).__init__()\n",
    "\n",
    "        #self.in_dim = in_dim + 1\n",
    "        self.in_dim = in_dim + 1        \n",
    "        self.out_dim = out_dim\n",
    "        self.hdim = hdim\n",
    "\n",
    "        self.p = p\n",
    "        linear1 = nn.Linear(self.in_dim,self.hdim)\n",
    "        #dropout1 = nn.Dropout(self.p)\n",
    "        linear2 = nn.Linear(self.hdim,self.hdim)\n",
    "        dropout2 = nn.Dropout(self.p)        \n",
    "        linear3 = nn.Linear(self.hdim,self.hdim)\n",
    "        dropout3 = nn.Dropout(self.p)        \n",
    "        linear4 = nn.Linear(self.hdim,self.out_dim)\n",
    "\n",
    "        activation =  nn.Tanh()\n",
    "        linear = [linear1,\n",
    "                  activation,\n",
    "                  #dropout1,                  \n",
    "                  linear2,\n",
    "                  activation,\n",
    "                  dropout2,                                    \n",
    "                  linear3,\n",
    "                  activation,\n",
    "                  dropout3,                                                      \n",
    "                  linear4]\n",
    "        self.linear = nn.Sequential(*linear)\n",
    "        \n",
    "        def init_weights(m):\n",
    "            if isinstance(m, nn.Linear):\n",
    "                torch.nn.init.xavier_uniform(m.weight)\n",
    "                m.bias.data.fill_(0.0)\n",
    "                \n",
    "        self.linear.apply(init_weights)\n",
    "        \n",
    "                \n",
    "    def forward(self,x):        \n",
    "        return self.linear(x)\n",
    "    \n",
    "    \n",
    "    \n",
    "class PINN_Basic(nn.Module):\n",
    "    def __init__(self,nn_model, pdetype = 'v1' ):\n",
    "        super(PINN_Basic,self).__init__()\n",
    "\n",
    "        self.pde_type = pdetype\n",
    "        self.nn_model = nn_model\n",
    "        self.in_dim =  nn_model.in_dim         \n",
    "        self.out_dim = nn_model.out_dim\n",
    "        self.reg_lambda = 1\n",
    "        \n",
    "        #self.mse_loss = nn.MSELoss(reduce=False)\n",
    "        self.mse_loss = nn.MSELoss(reduce=True,reduction = 'mean')\n",
    "            \n",
    "    def forward(self,xt):        \n",
    "        u_xt = self.nn_model(xt)                \n",
    "        return u_xt\n",
    "    \n",
    "    \n",
    "    def compute_loss(self,xt_rd,y_rd,xt_init,u_init,xt_bd,u_bd):\n",
    "        loss_rd = self.compute_pdeloss_rd(xt_rd,y_rd)\n",
    "        loss_init = self.compute_pdeloss_bdinit(xt_init,u_init)\n",
    "        loss_bd = self.compute_pdeloss_bdinit(xt_bd,u_bd)        \n",
    "        #loss = loss_rd + self.reg_lambda*(0.5*loss_init + 0.5*loss_bd)\n",
    "        #return loss_rd + self.reg_lambda*(0.5*loss_init + 0.5*loss_bd)\n",
    "        return loss_rd,loss_init,loss_bd\n",
    "\n",
    "\n",
    "    \n",
    "    def compute_pdeloss_rd(self,xt,y):        \n",
    "        xt_grad = xt.clone()\n",
    "        xt_grad.requires_grad = True\n",
    "\n",
    "        u = self.nn_model(xt_grad)                \n",
    "        du_dxt= autograd.grad(u,xt_grad,torch.ones_like(u).to(u.device),retain_graph=True,create_graph=True)[0]\n",
    "        du_dx_dxt = autograd.grad(du_dxt[:,:,:-1],xt_grad,torch.ones_like(du_dxt[:,:,:-1]).to(xt_grad.device),retain_graph=True,create_graph=True)[0]\n",
    "        du_dx = du_dxt[:,:,:-1]\n",
    "        du_dxx = du_dx_dxt[:,:,:-1]\n",
    "\n",
    "        # compute loss depending on pde\n",
    "        pde_loss = self.mse_loss(0.01*du_dxx,y)\n",
    "        \n",
    "        return pde_loss\n",
    "    \n",
    "    \n",
    "    def compute_pdeloss_bdinit(self,xt,y):        \n",
    "        u = self.nn_model(xt)                \n",
    "        # compute loss depending on pde\n",
    "        pde_loss = self.mse_loss(u,y)\n",
    "        \n",
    "        return pde_loss"
   ]
  },
  {
   "cell_type": "code",
   "execution_count": 6,
   "metadata": {},
   "outputs": [],
   "source": [
    "#--------------------------------------------------------\n",
    "# reference:\n",
    "# https://github.com/JavierAntoran/Bayesian-Neural-Networks/blob/master/src/MC_dropout/model.py\n",
    "# https://github.com/JavierAntoran/Bayesian-Neural-Networks/blob/master/notebooks/regression/mc_dropout_homo.ipynb\n",
    "#--------------------------------------------------------\n",
    "class PINN_MCdrop(PINN_Basic):\n",
    "    \n",
    "    def __init__(self,nn_model, pdetype = 'v1',num_sample_intrain=5, num_sample_intest=10, eps=1e-16):\n",
    "    #def __init__(self,in_dim = 1, out_dim = 1, pdetype = 'v1',num_sample_intrain=5, num_sample_intest=10, eps=1e-16):\n",
    "        \n",
    "        super(PINN_MCdrop,self).__init__(nn_model, pdetype)\n",
    "\n",
    "        #self.nn_model =  BayesMLP_Layer(in_dim = in_dim,out_dim = out_dim)\n",
    "        self.num_sample_intrain = num_sample_intrain\n",
    "        self.num_sample_intest = num_sample_intest\n",
    "\n",
    "    def compute_preddist(self,xt,num_sample=10):        \n",
    "        pred_list = []\n",
    "        for _ in range(num_sample):\n",
    "            pred_list.append(self.forward(xt)[0].unsqueeze(dim=-1))\n",
    "        pred_list = torch.cat(pred_list,dim=-1)    \n",
    "        emp_pmu = pred_list.mean(dim=-1) \n",
    "        emp_pstd = pred_list.std(dim=-1) \n",
    "        \n",
    "        #return emp_pmu,emp_pstd,pred_list\n",
    "        return emp_pmu,emp_pstd\n",
    "\n",
    "    \n",
    "\n",
    "    def forward(self,xt,use_sample=True):        \n",
    "        if use_sample:\n",
    "            self.nn_model.train()\n",
    "        else:\n",
    "            self.nn_model.eval()            \n",
    "        u_xt = self.nn_model(xt)                            \n",
    "        return u_xt, 0.0\n",
    "    \n",
    "\n",
    "    def compute_loss(self,xt_rd,y_rd,xt_init,u_init,xt_bd,u_bd):\n",
    "        loss_rd,reg_rd = 0,0\n",
    "        loss_init,reg_init = 0,0\n",
    "        loss_bd,reg_bd = 0,0\n",
    "        \n",
    "        for i in range(self.num_sample_intrain):        \n",
    "            i_loss_rd,i_reg_rd      = self.compute_pdeloss_rd(xt_rd,y_rd)            \n",
    "            loss_rd = loss_rd + i_loss_rd\n",
    "            reg_rd = reg_rd + i_reg_rd\n",
    "            \n",
    "            i_loss_init,i_reg_init  = self.compute_pdeloss_bdinit(xt_init,u_init)\n",
    "            loss_init = loss_init + i_loss_init\n",
    "            reg_init = reg_init + i_reg_init\n",
    "\n",
    "            i_loss_bd,i_reg_bd      = self.compute_pdeloss_bdinit(xt_bd,u_bd)        \n",
    "            loss_bd = loss_bd + i_loss_bd\n",
    "            reg_bd = reg_bd + i_reg_bd\n",
    "            \n",
    "        loss_rd, reg_rd = loss_rd/self.num_sample_intrain, reg_rd/self.num_sample_intrain    \n",
    "        loss_init, reg_init = loss_init/self.num_sample_intrain, reg_init/self.num_sample_intrain    \n",
    "        loss_bd, reg_bd = loss_bd/self.num_sample_intrain, reg_bd/self.num_sample_intrain    \n",
    "        \n",
    "        return (loss_rd,reg_rd),(loss_init,reg_init),(loss_bd,reg_bd)\n",
    "\n",
    "    \n",
    "    def compute_pdeloss_rd(self,xt,y):        \n",
    "        xt_grad = xt.clone()\n",
    "        xt_grad.requires_grad = True\n",
    "\n",
    "#         u, tlqw, tlpw = self.nn_model(xt_grad)                \n",
    "#         # ------------------------------        \n",
    "#         # compute regloss by prior\n",
    "#         # ------------------------------        \n",
    "#         nbatch = np.prod(xt_bd.shape[:2])\n",
    "#         reg_loss = (tlqw - tlpw)/nbatch\n",
    "\n",
    "        u = self.nn_model(xt_grad)                \n",
    "\n",
    "        # ------------------------------\n",
    "        # compute pde bd loss\n",
    "        # ------------------------------        \n",
    "        du_dxt= autograd.grad(u,xt_grad,torch.ones_like(u).to(u.device),retain_graph=True,create_graph=True)[0]\n",
    "        du_dx_dxt = autograd.grad(du_dxt[:,:,:-1],xt_grad,torch.ones_like(du_dxt[:,:,:-1]).to(xt_grad.device),retain_graph=True,create_graph=True)[0]\n",
    "        du_dx = du_dxt[:,:,:-1]\n",
    "        du_dxx = du_dx_dxt[:,:,:-1]\n",
    "\n",
    "        # compute loss depending on pde\n",
    "        pde_loss = self.mse_loss(0.01*du_dxx,y)\n",
    "            \n",
    "        return pde_loss,0.0\n",
    "    \n",
    "    \n",
    "    def compute_pdeloss_bdinit(self,xt,y):        \n",
    "#         u, tlqw, tlpw = self.nn_model(xt)\n",
    "#         # ------------------------------\n",
    "#         # compute regloss by prior        \n",
    "#         # ------------------------------        \n",
    "#         nbatch = np.prod(xt_bd.shape[:2])\n",
    "#         reg_loss = (tlqw - tlpw)/nbatch\n",
    "\n",
    "        u = self.nn_model(xt)\n",
    "\n",
    "        # ------------------------------\n",
    "        # compute pde init loss\n",
    "        # ------------------------------                \n",
    "        # compute loss depending on pde\n",
    "        pde_loss = self.mse_loss(u,y)\n",
    "        \n",
    "        return pde_loss,0.0    \n"
   ]
  },
  {
   "cell_type": "code",
   "execution_count": 7,
   "metadata": {},
   "outputs": [],
   "source": [
    "#nn.Dropout(self.p)  "
   ]
  },
  {
   "cell_type": "markdown",
   "metadata": {},
   "source": [
    "## target problem: 1d nonlinear Poisson equation"
   ]
  },
  {
   "cell_type": "code",
   "execution_count": 8,
   "metadata": {},
   "outputs": [],
   "source": [
    "#torch.linspace(init_a,init_b,nobs)"
   ]
  },
  {
   "cell_type": "code",
   "execution_count": 9,
   "metadata": {},
   "outputs": [
    {
     "data": {
      "text/plain": [
       "AttrDict({'in_dim': 1, 'out_dim': 1, 'noisestd': 0.1, 'nb': 8, 'nobs': 32, 'xmin': -0.7, 'xmax': 0.7, 'tmin': 0, 'tmax': 1})"
      ]
     },
     "execution_count": 9,
     "metadata": {},
     "output_type": "execute_result"
    }
   ],
   "source": [
    "#---------------------------------\n",
    "# data configuration\n",
    "#---------------------------------\n",
    "dataconfig = AttrDict()\n",
    "\n",
    "dataconfig.in_dim,dataconfig.out_dim  = 1,1\n",
    "dataconfig.noisestd = 0.1\n",
    "#dataconfig.noisestd = 0.01\n",
    "\n",
    "#nb,nobs = 16,16 #(nsensors=16)\n",
    "\n",
    "dataconfig.nb,dataconfig.nobs = 8,32 #(nsensors=32)\n",
    "\n",
    "dataconfig.xmin,dataconfig.xmax = -0.7,0.7\n",
    "dataconfig.tmin,dataconfig.tmax = 0,1\n",
    "\n",
    "dataconfig"
   ]
  },
  {
   "cell_type": "code",
   "execution_count": 10,
   "metadata": {},
   "outputs": [],
   "source": [
    "\n",
    "\n",
    "\n",
    "\n",
    "\n",
    "#---------------------------------\n",
    "# rc\n",
    "#---------------------------------\n",
    "#def gen_obs(xmin=xmin,xmax=xmax,tmin=,noise_level=0.1):\n",
    "#def gen_obs(xmin=xmin,xmax=xmax,tmin=,noise_level=0.1):\n",
    "# def gen_obs(dataconfig):\n",
    "    \n",
    "#     f = lambda x: torch.pow(torch.sin(6*x),3)\n",
    "  \n",
    "#     x = dataconfig.xmin  + (dataconfig.xmax  - dataconfig.xmin)* torch.rand(dataconfig.nb,dataconfig.nobs,dataconfig.in_dim )\n",
    "#     g_noise = dataconfig.noisestd*torch.randn(dataconfig.nb,dataconfig.nobs,dataconfig.in_dim )\n",
    "#     t = (dataconfig.tmax  - dataconfig.tmin)* torch.rand(dataconfig.nb,1,1 ).repeat(1,dataconfig.nobs,1)\n",
    "\n",
    "#     f = f(x)\n",
    "#     y = f + g_noise \n",
    "\n",
    "#     #return x,y,f    \n",
    "#     #t = (dataconfig.tmax  - dataconfig.tmin)* torch.rand(dataconfig.nb,dataconfig.nobs,1 )\n",
    "    \n",
    "#     xt = torch.cat([x,t],dim=-1)\n",
    "#     return xt,y,f    \n",
    "\n",
    "\n",
    "\n",
    "def gen_obs(dataconfig):\n",
    "    \n",
    "    u = lambda x: torch.pow(torch.sin(6*x),3)\n",
    "    f = lambda x: (6**3)*torch.sin(6*x)*torch.pow(torch.cos(6*x),2) - 3*(6**2)*torch.pow(torch.sin(6*x),3)\n",
    "  \n",
    "    # ----------------------------\n",
    "    # gen datset on rd\n",
    "    # ----------------------------    \n",
    "    x = dataconfig.xmin  + (dataconfig.xmax  - dataconfig.xmin)* torch.rand(dataconfig.nb,dataconfig.nobs,dataconfig.in_dim )\n",
    "    g_noise = dataconfig.noisestd*torch.randn(dataconfig.nb,dataconfig.nobs,dataconfig.in_dim )\n",
    "    t = (dataconfig.tmax  - dataconfig.tmin)* torch.rand(dataconfig.nb,1,1 ).repeat(1,dataconfig.nobs,1)\n",
    "\n",
    "    f_xt = f(x)\n",
    "    y_rd = 0.01*f_xt + g_noise     \n",
    "    xt_rd = torch.cat([x,t],dim=-1)\n",
    "    \n",
    "\n",
    "    # ----------------------------\n",
    "    # gen datset on init\n",
    "    # ----------------------------    \n",
    "    x = dataconfig.xmin  + (dataconfig.xmax  - dataconfig.xmin)* torch.rand(dataconfig.nb,dataconfig.nobs,dataconfig.in_dim )\n",
    "    g_noise = dataconfig.noisestd*torch.randn(dataconfig.nb,dataconfig.nobs,dataconfig.in_dim )\n",
    "    t = 0*torch.rand(dataconfig.nb,1,1 ).repeat(1,dataconfig.nobs,1)\n",
    "    u_init = u(x)\n",
    "    xt_init = torch.cat([x,t],dim=-1)\n",
    "\n",
    "    # ----------------------------\n",
    "    # gen datset on bd\n",
    "    # ----------------------------    \n",
    "    x = torch.cat([dataconfig.xmin* torch.ones(dataconfig.nb,dataconfig.nobs//2,dataconfig.in_dim ),\n",
    "                   dataconfig.xmax* torch.ones(dataconfig.nb,dataconfig.nobs//2,dataconfig.in_dim )],dim=-2)\n",
    "     \n",
    "    #g_noise = dataconfig.noisestd*torch.randn(dataconfig.nb,dataconfig.nobs,dataconfig.in_dim )\n",
    "    t = torch.rand(dataconfig.nb,dataconfig.nobs,1  )\n",
    "    u_bd = u(x)\n",
    "    #y_bd = u_bd      \n",
    "    xt_bd = torch.cat([x,t],dim=-1)\n",
    "        \n",
    "    return (xt_rd,y_rd,f_xt),(xt_init,u_init),(xt_bd,u_bd)    \n",
    "\n",
    "\n",
    "    "
   ]
  },
  {
   "cell_type": "code",
   "execution_count": null,
   "metadata": {},
   "outputs": [],
   "source": []
  },
  {
   "cell_type": "code",
   "execution_count": 11,
   "metadata": {},
   "outputs": [
    {
     "data": {
      "text/plain": [
       "<matplotlib.collections.PathCollection at 0x7fd78f515b38>"
      ]
     },
     "execution_count": 11,
     "metadata": {},
     "output_type": "execute_result"
    },
    {
     "data": {
      "image/png": "[encoded data removed]",
      "text/plain": [
       "<Figure size 432x288 with 1 Axes>"
      ]
     },
     "metadata": {
      "needs_background": "light"
     },
     "output_type": "display_data"
    }
   ],
   "source": [
    "rd_set,init_set,bd_set = gen_obs(dataconfig)\n",
    "\n",
    "xt_rd,y_rd,f = rd_set\n",
    "xt_init,u_init = init_set\n",
    "xt_bd,u_bd = bd_set\n",
    "\n",
    "bidx = 1\n",
    "plt.scatter(xt_rd[bidx,:,0].cpu().data.numpy(),y_rd[bidx,:,0].cpu().data.numpy())\n",
    "plt.scatter(xt_init[bidx,:,0].cpu().data.numpy(),u_init[bidx,:,0].cpu().data.numpy())\n",
    "plt.scatter(xt_bd[bidx,:,0].cpu().data.numpy(),u_bd[bidx,:,0].cpu().data.numpy())\n",
    "\n",
    "#plt.scatter(xt_init[:,0].cpu().data.numpy(),u_init[:,0].cpu().data.numpy())\n",
    "# plt.scatter(xt[:,0].cpu().data.numpy(),f[:,0].cpu().data.numpy())\n"
   ]
  },
  {
   "cell_type": "code",
   "execution_count": 12,
   "metadata": {},
   "outputs": [],
   "source": [
    "#len(rd_set[:-1])"
   ]
  },
  {
   "cell_type": "code",
   "execution_count": 13,
   "metadata": {},
   "outputs": [
    {
     "name": "stderr",
     "output_type": "stream",
     "text": [
      "/home/yohan/Myenv/lib/python3.6/site-packages/ipykernel_launcher.py:38: UserWarning: nn.init.xavier_uniform is now deprecated in favor of nn.init.xavier_uniform_.\n",
      "/home/yohan/Myenv/lib/python3.6/site-packages/torch/nn/_reduction.py:42: UserWarning: size_average and reduce args will be deprecated, please use reduction='mean' instead.\n",
      "  warnings.warn(warning.format(ret))\n"
     ]
    },
    {
     "data": {
      "text/plain": [
       "PINN_MCdrop(\n",
       "  (nn_model): MLP_Layer_MCdrop(\n",
       "    (linear): Sequential(\n",
       "      (0): Linear(in_features=2, out_features=50, bias=True)\n",
       "      (1): Tanh()\n",
       "      (2): Linear(in_features=50, out_features=50, bias=True)\n",
       "      (3): Tanh()\n",
       "      (4): Dropout(p=0.05, inplace=False)\n",
       "      (5): Linear(in_features=50, out_features=50, bias=True)\n",
       "      (6): Tanh()\n",
       "      (7): Dropout(p=0.05, inplace=False)\n",
       "      (8): Linear(in_features=50, out_features=1, bias=True)\n",
       "    )\n",
       "  )\n",
       "  (mse_loss): MSELoss()\n",
       ")"
      ]
     },
     "execution_count": 13,
     "metadata": {},
     "output_type": "execute_result"
    }
   ],
   "source": [
    "# mlp_layer = MLP_Layer(in_dim = 1, out_dim=1)\n",
    "# mlp_layer\n",
    "#model = PINN_Basic( MLP_Layer(in_dim = 1, out_dim=1) )\n",
    "#model = PINN_Basic( MLP_Layer_MCdrop(in_dim = 1, out_dim=1) )\n",
    "model = PINN_MCdrop( MLP_Layer_MCdrop(in_dim = 1, out_dim=1, p=0.05) )\n",
    "model"
   ]
  },
  {
   "cell_type": "code",
   "execution_count": 16,
   "metadata": {},
   "outputs": [],
   "source": [
    "trainconfig = AttrDict()\n",
    "\n",
    "trainconfig.nepochs = 2000\n",
    "trainconfig.lr = 1e-3\n",
    "trainconfig.weightdecay = 1e-4\n",
    "\n",
    "optimizer = torch.optim.Adam(model.parameters(), lr=trainconfig.lr,weight_decay=trainconfig.weightdecay)\n"
   ]
  },
  {
   "cell_type": "code",
   "execution_count": 17,
   "metadata": {},
   "outputs": [
    {
     "name": "stdout",
     "output_type": "stream",
     "text": [
      "[100 /2000]: tr loss: 0.45 \t 0.34,0.15,0.06\n",
      "[200 /2000]: tr loss: 0.32 \t 0.27,0.08,0.04\n",
      "[300 /2000]: tr loss: 0.29 \t 0.24,0.06,0.04\n",
      "[400 /2000]: tr loss: 0.23 \t 0.18,0.05,0.05\n",
      "[500 /2000]: tr loss: 0.20 \t 0.15,0.04,0.05\n",
      "[600 /2000]: tr loss: 0.21 \t 0.16,0.05,0.04\n",
      "[700 /2000]: tr loss: 0.18 \t 0.13,0.04,0.05\n",
      "[800 /2000]: tr loss: 0.16 \t 0.12,0.04,0.04\n",
      "[900 /2000]: tr loss: 0.16 \t 0.12,0.04,0.04\n",
      "[1000 /2000]: tr loss: 0.13 \t 0.10,0.04,0.04\n",
      "[1100 /2000]: tr loss: 0.13 \t 0.10,0.04,0.04\n",
      "[1200 /2000]: tr loss: 0.13 \t 0.09,0.04,0.04\n",
      "[1300 /2000]: tr loss: 0.14 \t 0.11,0.03,0.04\n",
      "[1400 /2000]: tr loss: 0.14 \t 0.10,0.04,0.04\n",
      "[1500 /2000]: tr loss: 0.13 \t 0.10,0.03,0.04\n",
      "[1600 /2000]: tr loss: 0.13 \t 0.09,0.04,0.04\n",
      "[1700 /2000]: tr loss: 0.13 \t 0.10,0.03,0.04\n",
      "[1800 /2000]: tr loss: 0.11 \t 0.08,0.04,0.03\n",
      "[1900 /2000]: tr loss: 0.13 \t 0.09,0.03,0.04\n",
      "[2000 /2000]: tr loss: 0.13 \t 0.10,0.04,0.03\n"
     ]
    }
   ],
   "source": [
    "model.train()\n",
    "for j in range(1,trainconfig.nepochs+1):\n",
    "    rd_set,init_set,bd_set = gen_obs(dataconfig)\n",
    "    loss_rd,loss_init,loss_bd = model.compute_loss(*rd_set[:-1],*init_set,*bd_set)\n",
    "    \n",
    "    loss = loss_rd[0] + 0.5*(loss_init[0] + loss_bd[0]) \n",
    "    \n",
    "    if j % 100 == 0:\n",
    "        print('[{} /{}]: tr loss: {:.2f} \\t {:.2f},{:.2f},{:.2f}'.format(j,trainconfig.nepochs,loss,loss_rd[0],loss_init[0],loss_bd[0]))\n",
    "    \n",
    "    #update model params\n",
    "    optimizer.zero_grad()        \n",
    "    loss.backward()\n",
    "    optimizer.step()\n",
    "\n"
   ]
  },
  {
   "cell_type": "code",
   "execution_count": 18,
   "metadata": {},
   "outputs": [
    {
     "data": {
      "text/plain": [
       "((tensor(0.0972, grad_fn=<DivBackward0>), 0.0),\n",
       " (tensor(0.0372, grad_fn=<DivBackward0>), 0.0),\n",
       " (tensor(0.0348, grad_fn=<DivBackward0>), 0.0))"
      ]
     },
     "execution_count": 18,
     "metadata": {},
     "output_type": "execute_result"
    }
   ],
   "source": [
    "loss_rd,loss_init,loss_bd"
   ]
  },
  {
   "cell_type": "markdown",
   "metadata": {},
   "source": [
    "## eval mode"
   ]
  },
  {
   "cell_type": "code",
   "execution_count": 19,
   "metadata": {},
   "outputs": [
    {
     "data": {
      "text/plain": [
       "PINN_MCdrop(\n",
       "  (nn_model): MLP_Layer_MCdrop(\n",
       "    (linear): Sequential(\n",
       "      (0): Linear(in_features=2, out_features=50, bias=True)\n",
       "      (1): Tanh()\n",
       "      (2): Linear(in_features=50, out_features=50, bias=True)\n",
       "      (3): Tanh()\n",
       "      (4): Dropout(p=0.05, inplace=False)\n",
       "      (5): Linear(in_features=50, out_features=50, bias=True)\n",
       "      (6): Tanh()\n",
       "      (7): Dropout(p=0.05, inplace=False)\n",
       "      (8): Linear(in_features=50, out_features=1, bias=True)\n",
       "    )\n",
       "  )\n",
       "  (mse_loss): MSELoss()\n",
       ")"
      ]
     },
     "execution_count": 19,
     "metadata": {},
     "output_type": "execute_result"
    }
   ],
   "source": [
    "model.train()"
   ]
  },
  {
   "cell_type": "code",
   "execution_count": 20,
   "metadata": {},
   "outputs": [],
   "source": [
    "rd_set,init_set,bd_set = gen_obs(dataconfig)\n",
    "\n",
    "xt_rd,y_rd,f = rd_set\n",
    "xt_init,u_init = init_set\n",
    "xt_bd,u_bd = bd_set"
   ]
  },
  {
   "cell_type": "code",
   "execution_count": 27,
   "metadata": {},
   "outputs": [],
   "source": [
    "uxt_rd = model(xt_rd)[0]"
   ]
  },
  {
   "cell_type": "code",
   "execution_count": 28,
   "metadata": {},
   "outputs": [
    {
     "data": {
      "text/plain": [
       "8"
      ]
     },
     "execution_count": 28,
     "metadata": {},
     "output_type": "execute_result"
    }
   ],
   "source": [
    "len(uxt_rd)"
   ]
  },
  {
   "cell_type": "code",
   "execution_count": 29,
   "metadata": {},
   "outputs": [
    {
     "data": {
      "image/png": "[encoded data removed]",
      "text/plain": [
       "<Figure size 432x288 with 1 Axes>"
      ]
     },
     "metadata": {
      "needs_background": "light"
     },
     "output_type": "display_data"
    },
    {
     "data": {
      "image/png": "[encoded data removed]",
      "text/plain": [
       "<Figure size 432x288 with 1 Axes>"
      ]
     },
     "metadata": {
      "needs_background": "light"
     },
     "output_type": "display_data"
    },
    {
     "data": {
      "image/png": "[encoded data removed]",
      "text/plain": [
       "<Figure size 432x288 with 1 Axes>"
      ]
     },
     "metadata": {
      "needs_background": "light"
     },
     "output_type": "display_data"
    },
    {
     "data": {
      "image/png": "[encoded data removed]",
      "text/plain": [
       "<Figure size 432x288 with 1 Axes>"
      ]
     },
     "metadata": {
      "needs_background": "light"
     },
     "output_type": "display_data"
    }
   ],
   "source": [
    "#for x_rd,y_rd,u_rd in xt_rd,u:\n",
    "#figure()\n",
    "for j in range(4):\n",
    "    fig = plt.figure()\n",
    "    plt.scatter(xt_rd[j,:,0].cpu().data.numpy(),uxt_rd[j,:,0].cpu().data.numpy(),color='b')\n",
    "    \n",
    "    plt.scatter(xt_init[j,:,0].cpu().data.numpy(),u_init[j,:,0].cpu().data.numpy(),color='r')\n",
    "    plt.scatter(xt_bd[j,:,0].cpu().data.numpy(),u_bd[j,:,0].cpu().data.numpy())\n",
    "    \n",
    "    plt.show()\n",
    "    \n",
    "    \n",
    "#plt.scatter(xt_rd[0,:,0].cpu().data.numpy(),f[0,:,0].cpu().data.numpy(),zorder=2)\n",
    "#plt.scatter(xt_rd[1,:,0].cpu().data.numpy(),rd_set[2][1,:,0].cpu().data.numpy())\n",
    "\n",
    "    \n",
    "# for x_rd,y_rd,u_rd in xt_rd,u:\n",
    "#     figure()\n",
    "#     plt.scatter(xt_rd[0,:,0].cpu().data.numpy(),uxt_rd[1,:,0].cpu().data.numpy())\n",
    "#     plt.scatter(xt_rd[1,:,0].cpu().data.numpy(),rd_set[2][1,:,0].cpu().data.numpy())\n"
   ]
  },
  {
   "cell_type": "code",
   "execution_count": 24,
   "metadata": {},
   "outputs": [
    {
     "data": {
      "image/png": "[encoded data removed]",
      "text/plain": [
       "<Figure size 432x288 with 1 Axes>"
      ]
     },
     "metadata": {
      "needs_background": "light"
     },
     "output_type": "display_data"
    },
    {
     "data": {
      "image/png": "[encoded data removed]",
      "text/plain": [
       "<Figure size 432x288 with 1 Axes>"
      ]
     },
     "metadata": {
      "needs_background": "light"
     },
     "output_type": "display_data"
    },
    {
     "data": {
      "image/png": "[encoded data removed]",
      "text/plain": [
       "<Figure size 432x288 with 1 Axes>"
      ]
     },
     "metadata": {
      "needs_background": "light"
     },
     "output_type": "display_data"
    },
    {
     "data": {
      "image/png": "[encoded data removed]",
      "text/plain": [
       "<Figure size 432x288 with 1 Axes>"
      ]
     },
     "metadata": {
      "needs_background": "light"
     },
     "output_type": "display_data"
    }
   ],
   "source": [
    "#for x_rd,y_rd,u_rd in xt_rd,u:\n",
    "#figure()\n",
    "for j in range(4):\n",
    "    fig = plt.figure()\n",
    "    plt.scatter(xt_rd[j,:,0].cpu().data.numpy(),uxt_rd[j,:,0].cpu().data.numpy(),color='b')\n",
    "    \n",
    "    plt.scatter(xt_init[j,:,0].cpu().data.numpy(),u_init[j,:,0].cpu().data.numpy(),color='r')\n",
    "    plt.scatter(xt_bd[j,:,0].cpu().data.numpy(),u_bd[j,:,0].cpu().data.numpy())\n",
    "    \n",
    "    plt.show()\n",
    "    \n",
    "    \n",
    "#plt.scatter(xt_rd[0,:,0].cpu().data.numpy(),f[0,:,0].cpu().data.numpy(),zorder=2)\n",
    "#plt.scatter(xt_rd[1,:,0].cpu().data.numpy(),rd_set[2][1,:,0].cpu().data.numpy())\n",
    "\n",
    "    \n",
    "# for x_rd,y_rd,u_rd in xt_rd,u:\n",
    "#     figure()\n",
    "#     plt.scatter(xt_rd[0,:,0].cpu().data.numpy(),uxt_rd[1,:,0].cpu().data.numpy())\n",
    "#     plt.scatter(xt_rd[1,:,0].cpu().data.numpy(),rd_set[2][1,:,0].cpu().data.numpy())\n"
   ]
  },
  {
   "cell_type": "code",
   "execution_count": 77,
   "metadata": {},
   "outputs": [],
   "source": [
    "#rd_set"
   ]
  },
  {
   "cell_type": "code",
   "execution_count": null,
   "metadata": {},
   "outputs": [],
   "source": []
  },
  {
   "cell_type": "code",
   "execution_count": null,
   "metadata": {},
   "outputs": [],
   "source": []
  },
  {
   "cell_type": "code",
   "execution_count": null,
   "metadata": {},
   "outputs": [],
   "source": []
  },
  {
   "cell_type": "code",
   "execution_count": null,
   "metadata": {},
   "outputs": [],
   "source": []
  }
 ],
 "metadata": {
  "kernelspec": {
   "display_name": "Python 3",
   "language": "python",
   "name": "python3"
  },
  "language_info": {
   "codemirror_mode": {
    "name": "ipython",
    "version": 3
   },
   "file_extension": ".py",
   "mimetype": "text/x-python",
   "name": "python",
   "nbconvert_exporter": "python",
   "pygments_lexer": "ipython3",
   "version": "3.6.8"
  }
 },
 "nbformat": 4,
 "nbformat_minor": 4
}
