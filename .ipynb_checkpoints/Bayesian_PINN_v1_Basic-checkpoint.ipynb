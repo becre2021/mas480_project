{
 "cells": [
  {
   "cell_type": "code",
   "execution_count": 1,
   "metadata": {},
   "outputs": [],
   "source": [
    "import torch \n",
    "import torch.autograd as autograd\n",
    "import torch.nn as nn\n",
    "import torch.optim as optim\n",
    "\n",
    "from attrdict import AttrDict\n",
    "import numpy as np\n",
    "import random\n",
    "\n",
    "import matplotlib.pyplot as plt"
   ]
  },
  {
   "cell_type": "code",
   "execution_count": 2,
   "metadata": {},
   "outputs": [],
   "source": [
    "args = AttrDict()\n",
    "args.seeds = 1111"
   ]
  },
  {
   "cell_type": "code",
   "execution_count": 3,
   "metadata": {},
   "outputs": [],
   "source": [
    "random_seed = args.seeds\n",
    "torch.manual_seed(random_seed)\n",
    "random.seed(random_seed)\n",
    "np.random.seed(random_seed)\n",
    "torch.backends.cudnn.deterministic = True\n",
    "torch.backends.cudnn.benchmark = False\n"
   ]
  },
  {
   "cell_type": "code",
   "execution_count": 4,
   "metadata": {},
   "outputs": [],
   "source": [
    "class MLP_Layer(nn.Module):\n",
    "    def __init__(self,in_dim=1,out_dim=1,hdim = 50 ):\n",
    "        super(MLP_Layer,self).__init__()\n",
    "\n",
    "        #self.in_dim = in_dim + 1\n",
    "        self.in_dim = in_dim + 1        \n",
    "        self.out_dim = out_dim\n",
    "        self.hdim = hdim\n",
    "\n",
    "        linear1 = nn.Linear(self.in_dim,self.hdim)\n",
    "        linear2 = nn.Linear(self.hdim,self.hdim)\n",
    "        linear3 = nn.Linear(self.hdim,self.hdim)\n",
    "        linear4 = nn.Linear(self.hdim,self.out_dim)\n",
    "\n",
    "        activation =  nn.Tanh()\n",
    "        linear = [linear1,\n",
    "                  activation,\n",
    "                  linear2,\n",
    "                  activation,\n",
    "                  linear3,\n",
    "                  activation,\n",
    "                  linear4]\n",
    "        self.linear = nn.Sequential(*linear)\n",
    "        \n",
    "        def init_weights(m):\n",
    "            if isinstance(m, nn.Linear):\n",
    "                torch.nn.init.xavier_uniform(m.weight)\n",
    "                m.bias.data.fill_(0.0)\n",
    "                \n",
    "        self.linear.apply(init_weights)\n",
    "        \n",
    "                \n",
    "    def forward(self,x):        \n",
    "        return self.linear(x)\n",
    "    \n",
    "    \n",
    "    \n",
    "class PINN_Basic(nn.Module):\n",
    "    def __init__(self,nn_model, pdetype = 'v1' ):\n",
    "        super(PINN_Basic,self).__init__()\n",
    "\n",
    "        self.pde_type = pdetype\n",
    "        self.nn_model = nn_model\n",
    "        self.in_dim =  nn_model.in_dim         \n",
    "        self.out_dim = nn_model.out_dim\n",
    "        self.reg_lambda = 1\n",
    "        \n",
    "        #self.mse_loss = nn.MSELoss(reduce=False)\n",
    "        self.mse_loss = nn.MSELoss(reduce=True,reduction = 'mean')\n",
    "            \n",
    "    def forward(self,xt):        \n",
    "        u_xt = self.nn_model(xt)                \n",
    "        return u_xt\n",
    "    \n",
    "    \n",
    "    def compute_loss(self,xt_rd,y_rd,xt_init,u_init,xt_bd,u_bd):\n",
    "        loss_rd = self.compute_pdeloss_rd(xt_rd,y_rd)\n",
    "        loss_init = self.compute_pdeloss_bdinit(xt_init,u_init)\n",
    "        loss_bd = self.compute_pdeloss_bdinit(xt_bd,u_bd)        \n",
    "        #loss = loss_rd + self.reg_lambda*(0.5*loss_init + 0.5*loss_bd)\n",
    "        #return loss_rd + self.reg_lambda*(0.5*loss_init + 0.5*loss_bd)\n",
    "        return loss_rd,loss_init,loss_bd\n",
    "\n",
    "\n",
    "    \n",
    "    def compute_pdeloss_rd(self,xt,y):        \n",
    "        xt_grad = xt.clone()\n",
    "        xt_grad.requires_grad = True\n",
    "\n",
    "        u = self.nn_model(xt_grad)                \n",
    "        du_dxt= autograd.grad(u,xt_grad,torch.ones_like(u).to(u.device),retain_graph=True,create_graph=True)[0]\n",
    "        du_dx_dxt = autograd.grad(du_dxt[:,:,:-1],xt_grad,torch.ones_like(du_dxt[:,:,:-1]).to(xt_grad.device),retain_graph=True,create_graph=True)[0]\n",
    "        du_dx = du_dxt[:,:,:-1]\n",
    "        du_dxx = du_dx_dxt[:,:,:-1]\n",
    "\n",
    "        # compute loss depending on pde\n",
    "        pde_loss = self.mse_loss(0.01*du_dxx,y)\n",
    "        \n",
    "        return pde_loss\n",
    "    \n",
    "    \n",
    "    def compute_pdeloss_bdinit(self,xt,y):        \n",
    "        u = self.nn_model(xt)                \n",
    "        # compute loss depending on pde\n",
    "        pde_loss = self.mse_loss(u,y)\n",
    "        \n",
    "        return pde_loss"
   ]
  },
  {
   "cell_type": "code",
   "execution_count": null,
   "metadata": {},
   "outputs": [],
   "source": []
  },
  {
   "cell_type": "markdown",
   "metadata": {},
   "source": [
    "## target problem: 1d nonlinear Poisson equation"
   ]
  },
  {
   "cell_type": "code",
   "execution_count": 5,
   "metadata": {},
   "outputs": [],
   "source": [
    "#torch.linspace(init_a,init_b,nobs)"
   ]
  },
  {
   "cell_type": "code",
   "execution_count": 19,
   "metadata": {},
   "outputs": [
    {
     "data": {
      "text/plain": [
       "AttrDict({'in_dim': 1, 'out_dim': 1, 'noisestd': 0.1, 'nb': 8, 'nobs': 32, 'xmin': -0.7, 'xmax': 0.7, 'tmin': 0, 'tmax': 1})"
      ]
     },
     "execution_count": 19,
     "metadata": {},
     "output_type": "execute_result"
    }
   ],
   "source": [
    "#---------------------------------\n",
    "# data configuration\n",
    "#---------------------------------\n",
    "dataconfig = AttrDict()\n",
    "\n",
    "dataconfig.in_dim,dataconfig.out_dim  = 1,1\n",
    "dataconfig.noisestd = 0.1\n",
    "#dataconfig.noisestd = 0.01\n",
    "\n",
    "#nb,nobs = 16,16 #(nsensors=16)\n",
    "\n",
    "dataconfig.nb,dataconfig.nobs = 8,32 #(nsensors=32)\n",
    "\n",
    "dataconfig.xmin,dataconfig.xmax = -0.7,0.7\n",
    "dataconfig.tmin,dataconfig.tmax = 0,1\n",
    "\n",
    "dataconfig"
   ]
  },
  {
   "cell_type": "code",
   "execution_count": 20,
   "metadata": {},
   "outputs": [],
   "source": [
    "\n",
    "#---------------------------------\n",
    "# rc\n",
    "#---------------------------------\n",
    "#def gen_obs(xmin=xmin,xmax=xmax,tmin=,noise_level=0.1):\n",
    "#def gen_obs(xmin=xmin,xmax=xmax,tmin=,noise_level=0.1):\n",
    "# def gen_obs(dataconfig):\n",
    "    \n",
    "#     f = lambda x: torch.pow(torch.sin(6*x),3)\n",
    "  \n",
    "#     x = dataconfig.xmin  + (dataconfig.xmax  - dataconfig.xmin)* torch.rand(dataconfig.nb,dataconfig.nobs,dataconfig.in_dim )\n",
    "#     g_noise = dataconfig.noisestd*torch.randn(dataconfig.nb,dataconfig.nobs,dataconfig.in_dim )\n",
    "#     t = (dataconfig.tmax  - dataconfig.tmin)* torch.rand(dataconfig.nb,1,1 ).repeat(1,dataconfig.nobs,1)\n",
    "\n",
    "#     f = f(x)\n",
    "#     y = f + g_noise \n",
    "\n",
    "#     #return x,y,f    \n",
    "#     #t = (dataconfig.tmax  - dataconfig.tmin)* torch.rand(dataconfig.nb,dataconfig.nobs,1 )\n",
    "    \n",
    "#     xt = torch.cat([x,t],dim=-1)\n",
    "#     return xt,y,f    \n",
    "\n",
    "\n",
    "\n",
    "def gen_obs(dataconfig):\n",
    "    \n",
    "    u = lambda x: torch.pow(torch.sin(6*x),3)\n",
    "    f = lambda x: (6**3)*torch.sin(6*x)*torch.pow(torch.cos(6*x),2) - 3*(6**2)*torch.pow(torch.sin(6*x),3)\n",
    "  \n",
    "    # ----------------------------\n",
    "    # gen datset on rd\n",
    "    # ----------------------------    \n",
    "    x = dataconfig.xmin  + (dataconfig.xmax  - dataconfig.xmin)* torch.rand(dataconfig.nb,dataconfig.nobs,dataconfig.in_dim )\n",
    "    g_noise = dataconfig.noisestd*torch.randn(dataconfig.nb,dataconfig.nobs,dataconfig.in_dim )\n",
    "    t = (dataconfig.tmax  - dataconfig.tmin)* torch.rand(dataconfig.nb,1,1 ).repeat(1,dataconfig.nobs,1)\n",
    "\n",
    "    f_xt = f(x)\n",
    "    y_rd = 0.01*f_xt + g_noise     \n",
    "    xt_rd = torch.cat([x,t],dim=-1)\n",
    "    \n",
    "\n",
    "    # ----------------------------\n",
    "    # gen datset on init\n",
    "    # ----------------------------    \n",
    "    x = dataconfig.xmin  + (dataconfig.xmax  - dataconfig.xmin)* torch.rand(dataconfig.nb,dataconfig.nobs,dataconfig.in_dim )\n",
    "    g_noise = dataconfig.noisestd*torch.randn(dataconfig.nb,dataconfig.nobs,dataconfig.in_dim )\n",
    "    t = 0*torch.rand(dataconfig.nb,1,1 ).repeat(1,dataconfig.nobs,1)\n",
    "    u_init = u(x)\n",
    "    xt_init = torch.cat([x,t],dim=-1)\n",
    "\n",
    "    # ----------------------------\n",
    "    # gen datset on bd\n",
    "    # ----------------------------    \n",
    "    x = torch.cat([dataconfig.xmin* torch.ones(dataconfig.nb,dataconfig.nobs//2,dataconfig.in_dim ),\n",
    "                   dataconfig.xmax* torch.ones(dataconfig.nb,dataconfig.nobs//2,dataconfig.in_dim )],dim=-2)\n",
    "     \n",
    "    #g_noise = dataconfig.noisestd*torch.randn(dataconfig.nb,dataconfig.nobs,dataconfig.in_dim )\n",
    "    t = torch.rand(dataconfig.nb,dataconfig.nobs,1  )\n",
    "    u_bd = u(x)\n",
    "    #y_bd = u_bd      \n",
    "    xt_bd = torch.cat([x,t],dim=-1)\n",
    "        \n",
    "    return (xt_rd,y_rd,f_xt),(xt_init,u_init),(xt_bd,u_bd)    \n",
    "\n",
    "\n",
    "    "
   ]
  },
  {
   "cell_type": "code",
   "execution_count": null,
   "metadata": {},
   "outputs": [],
   "source": []
  },
  {
   "cell_type": "code",
   "execution_count": 21,
   "metadata": {},
   "outputs": [
    {
     "data": {
      "text/plain": [
       "<matplotlib.collections.PathCollection at 0x7fdcb006f438>"
      ]
     },
     "execution_count": 21,
     "metadata": {},
     "output_type": "execute_result"
    },
    {
     "data": {
      "image/png": "[encoded data removed]",
      "text/plain": [
       "<Figure size 432x288 with 1 Axes>"
      ]
     },
     "metadata": {
      "needs_background": "light"
     },
     "output_type": "display_data"
    }
   ],
   "source": [
    "rd_set,init_set,bd_set = gen_obs(dataconfig)\n",
    "\n",
    "xt_rd,y_rd,f = rd_set\n",
    "xt_init,u_init = init_set\n",
    "xt_bd,u_bd = bd_set\n",
    "\n",
    "bidx = 1\n",
    "plt.scatter(xt_rd[bidx,:,0].cpu().data.numpy(),y_rd[bidx,:,0].cpu().data.numpy())\n",
    "plt.scatter(xt_init[bidx,:,0].cpu().data.numpy(),u_init[bidx,:,0].cpu().data.numpy())\n",
    "plt.scatter(xt_bd[bidx,:,0].cpu().data.numpy(),u_bd[bidx,:,0].cpu().data.numpy())\n",
    "\n",
    "#plt.scatter(xt_init[:,0].cpu().data.numpy(),u_init[:,0].cpu().data.numpy())\n",
    "# plt.scatter(xt[:,0].cpu().data.numpy(),f[:,0].cpu().data.numpy())\n"
   ]
  },
  {
   "cell_type": "code",
   "execution_count": 22,
   "metadata": {},
   "outputs": [],
   "source": [
    "#len(rd_set[:-1])"
   ]
  },
  {
   "cell_type": "code",
   "execution_count": 23,
   "metadata": {},
   "outputs": [
    {
     "name": "stderr",
     "output_type": "stream",
     "text": [
      "/home/yohan/Myenv/lib/python3.6/site-packages/ipykernel_launcher.py:27: UserWarning: nn.init.xavier_uniform is now deprecated in favor of nn.init.xavier_uniform_.\n",
      "/home/yohan/Myenv/lib/python3.6/site-packages/torch/nn/_reduction.py:42: UserWarning: size_average and reduce args will be deprecated, please use reduction='mean' instead.\n",
      "  warnings.warn(warning.format(ret))\n"
     ]
    },
    {
     "data": {
      "text/plain": [
       "PINN_Basic(\n",
       "  (nn_model): MLP_Layer(\n",
       "    (linear): Sequential(\n",
       "      (0): Linear(in_features=2, out_features=50, bias=True)\n",
       "      (1): Tanh()\n",
       "      (2): Linear(in_features=50, out_features=50, bias=True)\n",
       "      (3): Tanh()\n",
       "      (4): Linear(in_features=50, out_features=50, bias=True)\n",
       "      (5): Tanh()\n",
       "      (6): Linear(in_features=50, out_features=1, bias=True)\n",
       "    )\n",
       "  )\n",
       "  (mse_loss): MSELoss()\n",
       ")"
      ]
     },
     "execution_count": 23,
     "metadata": {},
     "output_type": "execute_result"
    }
   ],
   "source": [
    "# mlp_layer = MLP_Layer(in_dim = 1, out_dim=1)\n",
    "# mlp_layer\n",
    "model = PINN_Basic( MLP_Layer(in_dim = 1, out_dim=1) )\n",
    "model"
   ]
  },
  {
   "cell_type": "code",
   "execution_count": 24,
   "metadata": {},
   "outputs": [],
   "source": [
    "trainconfig = AttrDict()\n",
    "\n",
    "trainconfig.nepochs = 1500\n",
    "trainconfig.lr = 1e-3\n",
    "trainconfig.weightdecay = 1e-4\n",
    "\n",
    "optimizer = torch.optim.Adam(model.parameters(), lr=trainconfig.lr,weight_decay=trainconfig.weightdecay)\n"
   ]
  },
  {
   "cell_type": "code",
   "execution_count": 25,
   "metadata": {},
   "outputs": [
    {
     "name": "stdout",
     "output_type": "stream",
     "text": [
      "[10 /1500]: tr loss: 0.62 \t 0.37,0.51,0.01\n",
      "[20 /1500]: tr loss: 0.53 \t 0.32,0.35,0.06\n",
      "[30 /1500]: tr loss: 0.54 \t 0.33,0.35,0.08\n",
      "[40 /1500]: tr loss: 0.56 \t 0.34,0.39,0.04\n",
      "[50 /1500]: tr loss: 0.55 \t 0.35,0.34,0.06\n",
      "[60 /1500]: tr loss: 0.58 \t 0.35,0.41,0.05\n",
      "[70 /1500]: tr loss: 0.57 \t 0.35,0.40,0.05\n",
      "[80 /1500]: tr loss: 0.59 \t 0.37,0.40,0.06\n",
      "[90 /1500]: tr loss: 0.54 \t 0.33,0.36,0.05\n",
      "[100 /1500]: tr loss: 0.55 \t 0.35,0.37,0.05\n",
      "[110 /1500]: tr loss: 0.53 \t 0.31,0.41,0.05\n",
      "[120 /1500]: tr loss: 0.54 \t 0.34,0.35,0.04\n",
      "[130 /1500]: tr loss: 0.58 \t 0.36,0.38,0.04\n",
      "[140 /1500]: tr loss: 0.50 \t 0.32,0.30,0.05\n",
      "[150 /1500]: tr loss: 0.55 \t 0.36,0.32,0.05\n",
      "[160 /1500]: tr loss: 0.50 \t 0.32,0.31,0.05\n",
      "[170 /1500]: tr loss: 0.49 \t 0.33,0.26,0.05\n",
      "[180 /1500]: tr loss: 0.49 \t 0.35,0.22,0.07\n",
      "[190 /1500]: tr loss: 0.51 \t 0.35,0.23,0.08\n",
      "[200 /1500]: tr loss: 0.45 \t 0.32,0.21,0.06\n",
      "[210 /1500]: tr loss: 0.46 \t 0.33,0.19,0.06\n",
      "[220 /1500]: tr loss: 0.42 \t 0.31,0.17,0.04\n",
      "[230 /1500]: tr loss: 0.41 \t 0.32,0.14,0.04\n",
      "[240 /1500]: tr loss: 0.40 \t 0.33,0.11,0.03\n",
      "[250 /1500]: tr loss: 0.40 \t 0.34,0.09,0.03\n",
      "[260 /1500]: tr loss: 0.38 \t 0.34,0.06,0.02\n",
      "[270 /1500]: tr loss: 0.40 \t 0.37,0.04,0.02\n",
      "[280 /1500]: tr loss: 0.35 \t 0.32,0.04,0.01\n",
      "[290 /1500]: tr loss: 0.37 \t 0.35,0.03,0.01\n",
      "[300 /1500]: tr loss: 0.36 \t 0.34,0.03,0.01\n",
      "[310 /1500]: tr loss: 0.35 \t 0.33,0.03,0.01\n",
      "[320 /1500]: tr loss: 0.38 \t 0.36,0.03,0.01\n",
      "[330 /1500]: tr loss: 0.33 \t 0.31,0.03,0.01\n",
      "[340 /1500]: tr loss: 0.37 \t 0.35,0.03,0.00\n",
      "[350 /1500]: tr loss: 0.33 \t 0.31,0.03,0.01\n",
      "[360 /1500]: tr loss: 0.32 \t 0.30,0.03,0.00\n",
      "[370 /1500]: tr loss: 0.34 \t 0.32,0.03,0.00\n",
      "[380 /1500]: tr loss: 0.30 \t 0.29,0.03,0.00\n",
      "[390 /1500]: tr loss: 0.30 \t 0.29,0.03,0.00\n",
      "[400 /1500]: tr loss: 0.26 \t 0.25,0.03,0.00\n",
      "[410 /1500]: tr loss: 0.26 \t 0.24,0.02,0.00\n",
      "[420 /1500]: tr loss: 0.26 \t 0.25,0.02,0.00\n",
      "[430 /1500]: tr loss: 0.23 \t 0.22,0.02,0.00\n",
      "[440 /1500]: tr loss: 0.24 \t 0.23,0.02,0.00\n",
      "[450 /1500]: tr loss: 0.24 \t 0.23,0.02,0.00\n",
      "[460 /1500]: tr loss: 0.21 \t 0.20,0.02,0.00\n",
      "[470 /1500]: tr loss: 0.22 \t 0.21,0.02,0.00\n",
      "[480 /1500]: tr loss: 0.20 \t 0.19,0.02,0.00\n",
      "[490 /1500]: tr loss: 0.19 \t 0.18,0.02,0.00\n",
      "[500 /1500]: tr loss: 0.19 \t 0.18,0.01,0.00\n",
      "[510 /1500]: tr loss: 0.19 \t 0.19,0.01,0.00\n",
      "[520 /1500]: tr loss: 0.19 \t 0.18,0.01,0.00\n",
      "[530 /1500]: tr loss: 0.17 \t 0.17,0.01,0.00\n",
      "[540 /1500]: tr loss: 0.21 \t 0.20,0.01,0.00\n",
      "[550 /1500]: tr loss: 0.18 \t 0.17,0.01,0.00\n",
      "[560 /1500]: tr loss: 0.18 \t 0.18,0.01,0.00\n",
      "[570 /1500]: tr loss: 0.15 \t 0.15,0.01,0.00\n",
      "[580 /1500]: tr loss: 0.18 \t 0.17,0.01,0.00\n",
      "[590 /1500]: tr loss: 0.18 \t 0.18,0.01,0.00\n",
      "[600 /1500]: tr loss: 0.15 \t 0.14,0.01,0.00\n",
      "[610 /1500]: tr loss: 0.17 \t 0.17,0.01,0.00\n",
      "[620 /1500]: tr loss: 0.16 \t 0.15,0.01,0.00\n",
      "[630 /1500]: tr loss: 0.17 \t 0.16,0.01,0.00\n",
      "[640 /1500]: tr loss: 0.16 \t 0.15,0.01,0.00\n",
      "[650 /1500]: tr loss: 0.16 \t 0.16,0.01,0.00\n",
      "[660 /1500]: tr loss: 0.19 \t 0.18,0.01,0.00\n",
      "[670 /1500]: tr loss: 0.15 \t 0.15,0.01,0.00\n",
      "[680 /1500]: tr loss: 0.17 \t 0.16,0.01,0.00\n",
      "[690 /1500]: tr loss: 0.16 \t 0.15,0.01,0.00\n",
      "[700 /1500]: tr loss: 0.16 \t 0.16,0.01,0.00\n",
      "[710 /1500]: tr loss: 0.14 \t 0.13,0.01,0.00\n",
      "[720 /1500]: tr loss: 0.15 \t 0.14,0.01,0.00\n",
      "[730 /1500]: tr loss: 0.13 \t 0.13,0.01,0.00\n",
      "[740 /1500]: tr loss: 0.16 \t 0.15,0.01,0.00\n",
      "[750 /1500]: tr loss: 0.14 \t 0.13,0.01,0.00\n",
      "[760 /1500]: tr loss: 0.13 \t 0.13,0.01,0.00\n",
      "[770 /1500]: tr loss: 0.14 \t 0.13,0.01,0.00\n",
      "[780 /1500]: tr loss: 0.15 \t 0.14,0.01,0.00\n",
      "[790 /1500]: tr loss: 0.13 \t 0.13,0.01,0.00\n",
      "[800 /1500]: tr loss: 0.13 \t 0.12,0.01,0.00\n",
      "[810 /1500]: tr loss: 0.14 \t 0.14,0.01,0.00\n",
      "[820 /1500]: tr loss: 0.12 \t 0.11,0.01,0.00\n",
      "[830 /1500]: tr loss: 0.11 \t 0.11,0.01,0.00\n",
      "[840 /1500]: tr loss: 0.11 \t 0.10,0.01,0.00\n",
      "[850 /1500]: tr loss: 0.10 \t 0.09,0.01,0.00\n",
      "[860 /1500]: tr loss: 0.10 \t 0.10,0.01,0.00\n",
      "[870 /1500]: tr loss: 0.11 \t 0.11,0.01,0.00\n",
      "[880 /1500]: tr loss: 0.11 \t 0.11,0.01,0.00\n",
      "[890 /1500]: tr loss: 0.11 \t 0.10,0.01,0.00\n",
      "[900 /1500]: tr loss: 0.10 \t 0.09,0.01,0.00\n",
      "[910 /1500]: tr loss: 0.09 \t 0.09,0.01,0.00\n",
      "[920 /1500]: tr loss: 0.07 \t 0.07,0.01,0.00\n",
      "[930 /1500]: tr loss: 0.10 \t 0.09,0.00,0.00\n",
      "[940 /1500]: tr loss: 0.08 \t 0.08,0.01,0.00\n",
      "[950 /1500]: tr loss: 0.09 \t 0.09,0.01,0.00\n",
      "[960 /1500]: tr loss: 0.10 \t 0.09,0.01,0.00\n",
      "[970 /1500]: tr loss: 0.10 \t 0.10,0.01,0.00\n",
      "[980 /1500]: tr loss: 0.09 \t 0.08,0.01,0.00\n",
      "[990 /1500]: tr loss: 0.08 \t 0.08,0.00,0.00\n",
      "[1000 /1500]: tr loss: 0.08 \t 0.08,0.01,0.00\n",
      "[1010 /1500]: tr loss: 0.08 \t 0.08,0.00,0.00\n",
      "[1020 /1500]: tr loss: 0.08 \t 0.08,0.01,0.00\n",
      "[1030 /1500]: tr loss: 0.08 \t 0.07,0.01,0.00\n",
      "[1040 /1500]: tr loss: 0.08 \t 0.08,0.01,0.00\n",
      "[1050 /1500]: tr loss: 0.09 \t 0.08,0.01,0.00\n",
      "[1060 /1500]: tr loss: 0.09 \t 0.09,0.01,0.00\n",
      "[1070 /1500]: tr loss: 0.09 \t 0.08,0.01,0.00\n",
      "[1080 /1500]: tr loss: 0.09 \t 0.08,0.01,0.00\n",
      "[1090 /1500]: tr loss: 0.07 \t 0.07,0.01,0.00\n",
      "[1100 /1500]: tr loss: 0.10 \t 0.09,0.01,0.00\n",
      "[1110 /1500]: tr loss: 0.09 \t 0.09,0.01,0.00\n",
      "[1120 /1500]: tr loss: 0.07 \t 0.06,0.00,0.00\n",
      "[1130 /1500]: tr loss: 0.08 \t 0.07,0.01,0.00\n",
      "[1140 /1500]: tr loss: 0.08 \t 0.08,0.01,0.00\n",
      "[1150 /1500]: tr loss: 0.07 \t 0.07,0.01,0.00\n",
      "[1160 /1500]: tr loss: 0.07 \t 0.07,0.01,0.00\n",
      "[1170 /1500]: tr loss: 0.08 \t 0.08,0.01,0.00\n",
      "[1180 /1500]: tr loss: 0.08 \t 0.08,0.01,0.00\n",
      "[1190 /1500]: tr loss: 0.07 \t 0.07,0.01,0.00\n",
      "[1200 /1500]: tr loss: 0.08 \t 0.08,0.00,0.00\n",
      "[1210 /1500]: tr loss: 0.07 \t 0.07,0.01,0.00\n",
      "[1220 /1500]: tr loss: 0.07 \t 0.07,0.01,0.00\n",
      "[1230 /1500]: tr loss: 0.09 \t 0.08,0.01,0.00\n",
      "[1240 /1500]: tr loss: 0.07 \t 0.06,0.00,0.00\n",
      "[1250 /1500]: tr loss: 0.06 \t 0.06,0.00,0.00\n",
      "[1260 /1500]: tr loss: 0.07 \t 0.06,0.01,0.00\n",
      "[1270 /1500]: tr loss: 0.07 \t 0.07,0.00,0.00\n",
      "[1280 /1500]: tr loss: 0.05 \t 0.05,0.00,0.00\n",
      "[1290 /1500]: tr loss: 0.06 \t 0.06,0.00,0.00\n",
      "[1300 /1500]: tr loss: 0.06 \t 0.06,0.00,0.00\n",
      "[1310 /1500]: tr loss: 0.07 \t 0.06,0.00,0.00\n",
      "[1320 /1500]: tr loss: 0.06 \t 0.05,0.00,0.00\n",
      "[1330 /1500]: tr loss: 0.06 \t 0.05,0.00,0.00\n",
      "[1340 /1500]: tr loss: 0.04 \t 0.04,0.00,0.00\n",
      "[1350 /1500]: tr loss: 0.05 \t 0.05,0.00,0.00\n",
      "[1360 /1500]: tr loss: 0.05 \t 0.05,0.00,0.00\n",
      "[1370 /1500]: tr loss: 0.03 \t 0.03,0.00,0.00\n",
      "[1380 /1500]: tr loss: 0.04 \t 0.03,0.00,0.00\n",
      "[1390 /1500]: tr loss: 0.03 \t 0.03,0.00,0.00\n",
      "[1400 /1500]: tr loss: 0.03 \t 0.03,0.00,0.00\n",
      "[1410 /1500]: tr loss: 0.03 \t 0.03,0.00,0.00\n",
      "[1420 /1500]: tr loss: 0.03 \t 0.03,0.00,0.00\n",
      "[1430 /1500]: tr loss: 0.02 \t 0.02,0.00,0.00\n",
      "[1440 /1500]: tr loss: 0.02 \t 0.02,0.00,0.00\n",
      "[1450 /1500]: tr loss: 0.02 \t 0.02,0.00,0.00\n",
      "[1460 /1500]: tr loss: 0.03 \t 0.03,0.00,0.00\n",
      "[1470 /1500]: tr loss: 0.02 \t 0.02,0.00,0.00\n",
      "[1480 /1500]: tr loss: 0.02 \t 0.02,0.00,0.00\n",
      "[1490 /1500]: tr loss: 0.02 \t 0.02,0.00,0.00\n",
      "[1500 /1500]: tr loss: 0.02 \t 0.02,0.00,0.00\n"
     ]
    }
   ],
   "source": [
    "model.train()\n",
    "for j in range(1,trainconfig.nepochs+1):\n",
    "    rd_set,init_set,bd_set = gen_obs(dataconfig)\n",
    "    loss_rd,loss_init,loss_bd = model.compute_loss(*rd_set[:-1],*init_set,*bd_set)\n",
    "    \n",
    "    loss = loss_rd + 0.5*(loss_init + loss_bd) \n",
    "    \n",
    "    if j % 10 == 0:\n",
    "        print('[{} /{}]: tr loss: {:.2f} \\t {:.2f},{:.2f},{:.2f}'.format(j,trainconfig.nepochs,loss,loss_rd,loss_init,loss_bd))\n",
    "    \n",
    "    #update model params\n",
    "    optimizer.zero_grad()        \n",
    "    loss.backward()\n",
    "    optimizer.step()\n",
    "\n"
   ]
  },
  {
   "cell_type": "code",
   "execution_count": null,
   "metadata": {},
   "outputs": [],
   "source": []
  },
  {
   "cell_type": "markdown",
   "metadata": {},
   "source": [
    "## eval mode"
   ]
  },
  {
   "cell_type": "code",
   "execution_count": 26,
   "metadata": {},
   "outputs": [
    {
     "data": {
      "text/plain": [
       "PINN_Basic(\n",
       "  (nn_model): MLP_Layer(\n",
       "    (linear): Sequential(\n",
       "      (0): Linear(in_features=2, out_features=50, bias=True)\n",
       "      (1): Tanh()\n",
       "      (2): Linear(in_features=50, out_features=50, bias=True)\n",
       "      (3): Tanh()\n",
       "      (4): Linear(in_features=50, out_features=50, bias=True)\n",
       "      (5): Tanh()\n",
       "      (6): Linear(in_features=50, out_features=1, bias=True)\n",
       "    )\n",
       "  )\n",
       "  (mse_loss): MSELoss()\n",
       ")"
      ]
     },
     "execution_count": 26,
     "metadata": {},
     "output_type": "execute_result"
    }
   ],
   "source": [
    "model.eval()"
   ]
  },
  {
   "cell_type": "code",
   "execution_count": 31,
   "metadata": {},
   "outputs": [],
   "source": [
    "rd_set,init_set,bd_set = gen_obs(dataconfig)\n",
    "\n",
    "xt_rd,y_rd,f = rd_set\n",
    "xt_init,u_init = init_set\n",
    "xt_bd,u_bd = bd_set"
   ]
  },
  {
   "cell_type": "code",
   "execution_count": 32,
   "metadata": {},
   "outputs": [],
   "source": [
    "uxt_rd = model(xt_rd)"
   ]
  },
  {
   "cell_type": "code",
   "execution_count": 33,
   "metadata": {},
   "outputs": [
    {
     "data": {
      "text/plain": [
       "(torch.Size([8, 32, 2]), torch.Size([8, 32, 1]))"
      ]
     },
     "execution_count": 33,
     "metadata": {},
     "output_type": "execute_result"
    }
   ],
   "source": [
    "xt_rd.shape,uxt_rd.shape"
   ]
  },
  {
   "cell_type": "code",
   "execution_count": null,
   "metadata": {},
   "outputs": [],
   "source": []
  },
  {
   "cell_type": "code",
   "execution_count": 36,
   "metadata": {},
   "outputs": [
    {
     "data": {
      "image/png": "[encoded data removed]",
      "text/plain": [
       "<Figure size 432x288 with 1 Axes>"
      ]
     },
     "metadata": {
      "needs_background": "light"
     },
     "output_type": "display_data"
    },
    {
     "data": {
      "image/png": "[encoded data removed]",
      "text/plain": [
       "<Figure size 432x288 with 1 Axes>"
      ]
     },
     "metadata": {
      "needs_background": "light"
     },
     "output_type": "display_data"
    },
    {
     "data": {
      "image/png": "[encoded data removed]",
      "text/plain": [
       "<Figure size 432x288 with 1 Axes>"
      ]
     },
     "metadata": {
      "needs_background": "light"
     },
     "output_type": "display_data"
    },
    {
     "data": {
      "image/png": "[encoded data removed]",
      "text/plain": [
       "<Figure size 432x288 with 1 Axes>"
      ]
     },
     "metadata": {
      "needs_background": "light"
     },
     "output_type": "display_data"
    }
   ],
   "source": [
    "#for x_rd,y_rd,u_rd in xt_rd,u:\n",
    "#figure()\n",
    "for j in range(4):\n",
    "    fig = plt.figure()\n",
    "    plt.scatter(xt_rd[j,:,0].cpu().data.numpy(),uxt_rd[j,:,0].cpu().data.numpy(),color='b')\n",
    "    \n",
    "    plt.scatter(xt_init[j,:,0].cpu().data.numpy(),u_init[j,:,0].cpu().data.numpy(),color='r')\n",
    "    plt.scatter(xt_bd[j,:,0].cpu().data.numpy(),u_bd[j,:,0].cpu().data.numpy())\n",
    "    \n",
    "    plt.show()\n",
    "    \n",
    "    \n",
    "#plt.scatter(xt_rd[0,:,0].cpu().data.numpy(),f[0,:,0].cpu().data.numpy(),zorder=2)\n",
    "#plt.scatter(xt_rd[1,:,0].cpu().data.numpy(),rd_set[2][1,:,0].cpu().data.numpy())\n",
    "\n",
    "    \n",
    "# for x_rd,y_rd,u_rd in xt_rd,u:\n",
    "#     figure()\n",
    "#     plt.scatter(xt_rd[0,:,0].cpu().data.numpy(),uxt_rd[1,:,0].cpu().data.numpy())\n",
    "#     plt.scatter(xt_rd[1,:,0].cpu().data.numpy(),rd_set[2][1,:,0].cpu().data.numpy())\n"
   ]
  },
  {
   "cell_type": "code",
   "execution_count": 86,
   "metadata": {},
   "outputs": [],
   "source": [
    "#rd_set"
   ]
  },
  {
   "cell_type": "code",
   "execution_count": null,
   "metadata": {},
   "outputs": [],
   "source": []
  },
  {
   "cell_type": "code",
   "execution_count": null,
   "metadata": {},
   "outputs": [],
   "source": []
  },
  {
   "cell_type": "code",
   "execution_count": null,
   "metadata": {},
   "outputs": [],
   "source": []
  },
  {
   "cell_type": "code",
   "execution_count": null,
   "metadata": {},
   "outputs": [],
   "source": []
  }
 ],
 "metadata": {
  "kernelspec": {
   "display_name": "Python 3",
   "language": "python",
   "name": "python3"
  },
  "language_info": {
   "codemirror_mode": {
    "name": "ipython",
    "version": 3
   },
   "file_extension": ".py",
   "mimetype": "text/x-python",
   "name": "python",
   "nbconvert_exporter": "python",
   "pygments_lexer": "ipython3",
   "version": "3.6.8"
  }
 },
 "nbformat": 4,
 "nbformat_minor": 4
}
