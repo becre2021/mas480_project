{
 "cells": [
  {
   "cell_type": "code",
   "execution_count": 1,
   "metadata": {},
   "outputs": [],
   "source": [
    "import torch \n",
    "import torch.autograd as autograd\n",
    "import torch.nn as nn\n",
    "import torch.optim as optim\n",
    "\n",
    "from attrdict import AttrDict\n",
    "import numpy as np\n",
    "import random\n",
    "\n",
    "import matplotlib.pyplot as plt"
   ]
  },
  {
   "cell_type": "code",
   "execution_count": null,
   "metadata": {},
   "outputs": [],
   "source": []
  },
  {
   "cell_type": "code",
   "execution_count": 2,
   "metadata": {},
   "outputs": [],
   "source": [
    "args = AttrDict()\n",
    "args.seeds = 1111"
   ]
  },
  {
   "cell_type": "code",
   "execution_count": 3,
   "metadata": {},
   "outputs": [],
   "source": [
    "random_seed = args.seeds\n",
    "torch.manual_seed(random_seed)\n",
    "random.seed(random_seed)\n",
    "np.random.seed(random_seed)\n",
    "torch.backends.cudnn.deterministic = True\n",
    "torch.backends.cudnn.benchmark = False\n"
   ]
  },
  {
   "cell_type": "code",
   "execution_count": 4,
   "metadata": {},
   "outputs": [],
   "source": [
    "class MLP_Layer(nn.Module):\n",
    "    #def __init__(self,in_dim=1,out_dim=1,hdim = 50 ):\n",
    "    def __init__(self,in_dim=1,out_dim=1,hdim = 20 ):\n",
    "        \n",
    "        super(MLP_Layer,self).__init__()\n",
    "\n",
    "        #self.in_dim = in_dim + 1\n",
    "        self.in_dim = in_dim + 1        \n",
    "        self.out_dim = out_dim\n",
    "        self.hdim = hdim\n",
    "\n",
    "        linear1 = nn.Linear(self.in_dim,self.hdim )\n",
    "        linear2 = nn.Linear(self.hdim,self.hdim)\n",
    "        linear3 = nn.Linear(self.hdim,self.hdim)\n",
    "        linear4 = nn.Linear(self.hdim,self.out_dim)\n",
    "\n",
    "        activation =  nn.Tanh()\n",
    "        linear = [linear1,\n",
    "                  activation,\n",
    "                  linear2,\n",
    "                  activation,\n",
    "                  linear3,\n",
    "                  activation,\n",
    "                  linear4]\n",
    "        self.mapping = nn.Sequential(*linear)\n",
    "        \n",
    "        def init_weights(module):\n",
    "            if isinstance(module, nn.Linear):\n",
    "                torch.nn.init.xavier_uniform(module.weight)\n",
    "                module.bias.data.fill_(0.0)\n",
    "                \n",
    "        self.mapping.apply(init_weights)\n",
    "        \n",
    "                \n",
    "    def forward(self,x):        \n",
    "        return self.mapping(x)\n",
    "    \n",
    "    \n",
    "    \n",
    "    \n",
    "\n",
    "\n",
    "class PINN_Basic(nn.Module):\n",
    "    def __init__(self,nn_model, pdetype = 'v1' ):\n",
    "        super(PINN_Basic,self).__init__()\n",
    "\n",
    "        self.pde_type = pdetype\n",
    "        self.nn_model = nn_model\n",
    "        self.in_dim =  nn_model.in_dim         \n",
    "        self.out_dim = nn_model.out_dim\n",
    "        self.reg_lambda = 1\n",
    "        \n",
    "        #self.mse_loss = nn.MSELoss(reduce=False)\n",
    "        self.mse_loss = nn.MSELoss(reduce=True,reduction = 'mean')\n",
    "            \n",
    "    def forward(self,xt):        \n",
    "        u_xt = self.nn_model(xt)                \n",
    "        return u_xt\n",
    "    \n",
    "    \n",
    "    def compute_loss(self,xt_rd,y_rd,xt_init,u_init,xt_bd,u_bd):\n",
    "        loss_rd = self.compute_pdeloss_rd(xt_rd,y_rd)\n",
    "        loss_init = self.compute_pdeloss_bdinit(xt_init,u_init)\n",
    "        loss_bd = self.compute_pdeloss_bdinit(xt_bd,u_bd)        \n",
    "        #loss = loss_rd + self.reg_lambda*(0.5*loss_init + 0.5*loss_bd)\n",
    "        #return loss_rd + self.reg_lambda*(0.5*loss_init + 0.5*loss_bd)\n",
    "        return loss_rd,loss_init,loss_bd\n",
    "\n",
    "\n",
    "    \n",
    "    def compute_pdeloss_rd(self,xt,y):        \n",
    "        xt_grad = xt.clone()\n",
    "        xt_grad.requires_grad = True\n",
    "\n",
    "        u = self.nn_model(xt_grad)                \n",
    "        du_dxt= autograd.grad(u,xt_grad,torch.ones_like(u).to(u.device),retain_graph=True,create_graph=True)[0]\n",
    "        du_dx_dxt = autograd.grad(du_dxt[:,:,:-1],xt_grad,torch.ones_like(du_dxt[:,:,:-1]).to(xt_grad.device),retain_graph=True,create_graph=True)[0]\n",
    "        du_dx = du_dxt[:,:,:-1]\n",
    "        du_dxx = du_dx_dxt[:,:,:-1]\n",
    "\n",
    "        # compute loss depending on pde\n",
    "        pde_loss = self.mse_loss(0.01*du_dxx,y)\n",
    "        \n",
    "        return pde_loss\n",
    "    \n",
    "    \n",
    "    def compute_pdeloss_bdinit(self,xt,y):        \n",
    "        u = self.nn_model(xt)                \n",
    "        # compute loss depending on pde\n",
    "        pde_loss = self.mse_loss(u,y)\n",
    "        \n",
    "        return pde_loss"
   ]
  },
  {
   "cell_type": "code",
   "execution_count": 5,
   "metadata": {},
   "outputs": [],
   "source": [
    "def swag_parameters(module, params, no_cov_mat=True):\n",
    "    for name in list(module._parameters.keys()):\n",
    "        #print(name)\n",
    "        if module._parameters[name] is None:\n",
    "            continue\n",
    "        data = module._parameters[name].data\n",
    "        # turn off pop, which makes error\n",
    "        #module._parameters.pop(name)\n",
    "        module.register_buffer(\"%s_mean\" % name, data.new(data.size()).zero_())\n",
    "        module.register_buffer(\"%s_sq_mean\" % name, data.new(data.size()).zero_())\n",
    "\n",
    "        if no_cov_mat is False:\n",
    "            module.register_buffer(\n",
    "                \"%s_cov_mat_sqrt\" % name, data.new_empty((0, data.numel())).zero_()\n",
    "            )\n",
    "\n",
    "        params.append((module, name))\n",
    "    return\n",
    "    \n",
    "    \n",
    "    \n",
    "#--------------------------------------------------------\n",
    "# reference:\n",
    "# https://github.com/wjmaddox/swa_gaussian/blob/ed5fd56e34083b42630239e59076952dee44daf4/swag/posteriors/swag.py#L237\n",
    "# https://github.com/wjmaddox/swa_gaussian/blob/master/experiments/train/train.py\n",
    "#--------------------------------------------------------\n",
    "class PINN_SWAG(PINN_Basic):\n",
    "    \n",
    "    def __init__(self,nn_model, pdetype = 'v1', max_num_models = 10 ,update_period = 50, eps=1e-16):\n",
    "        super(PINN_SWAG,self).__init__(nn_model, pdetype)\n",
    "\n",
    "        # ----------------\n",
    "        # swag\n",
    "        # ----------------        \n",
    "        self.register_buffer(\"n_models\", torch.zeros([1], dtype=torch.long))     \n",
    "        \n",
    "        self.var_clamp = eps\n",
    "        self.max_num_models = max_num_models\n",
    "        self.no_cov_mat = False        \n",
    "        self.params = list()\n",
    "        self.nn_model.apply( lambda module: swag_parameters(module=module, params=self.params, no_cov_mat=self.no_cov_mat )  )        \n",
    "            \n",
    "            \n",
    "    # %s_mean\" % name\n",
    "    # %s_sq_mean\" % name\n",
    "    # %s_cov_mat_sqrt_mean\" % name\n",
    "    \n",
    "    def compute_preddist(self,xt,num_sample=10):        \n",
    "        pred_list = []\n",
    "        for _ in range(num_sample):\n",
    "            self.sample()\n",
    "            pred_list.append(self.forward(xt).unsqueeze(dim=-1))\n",
    "        pred_list = torch.cat(pred_list,dim=-1)    \n",
    "        emp_pmu = pred_list.mean(dim=-1) \n",
    "        emp_pstd = pred_list.std(dim=-1) \n",
    "        \n",
    "        #return emp_pmu,emp_pstd,pred_list\n",
    "        return emp_pmu,emp_pstd\n",
    "\n",
    "    \n",
    "    \n",
    "    #def collect_model(self, base_model):\n",
    "    def collect_model(self):        \n",
    "        #for (module, name), base_param in zip(self.params, base_model.parameters()):\n",
    "        for (module, name), base_param in zip(self.params, self.nn_model.parameters()):            \n",
    "            mean = module.__getattr__(\"%s_mean\" % name)\n",
    "            sq_mean = module.__getattr__(\"%s_sq_mean\" % name)\n",
    "\n",
    "            # first moment\n",
    "            mean = mean * self.n_models.item() / (\n",
    "                self.n_models.item() + 1.0\n",
    "            ) + base_param.data / (self.n_models.item() + 1.0)\n",
    "\n",
    "            # second moment\n",
    "            sq_mean = sq_mean * self.n_models.item() / (\n",
    "                self.n_models.item() + 1.0\n",
    "            ) + base_param.data ** 2 / (self.n_models.item() + 1.0)\n",
    "\n",
    "            # square root of covariance matrix\n",
    "            if self.no_cov_mat is False:\n",
    "                cov_mat_sqrt = module.__getattr__(\"%s_cov_mat_sqrt\" % name)\n",
    "\n",
    "                # block covariance matrices, store deviation from current mean\n",
    "                dev = (base_param.data - mean).view(-1, 1)\n",
    "                cov_mat_sqrt = torch.cat((cov_mat_sqrt, dev.view(-1, 1).t()), dim=0)\n",
    "\n",
    "                # remove first column if we have stored too many models\n",
    "                if (self.n_models.item() + 1) > self.max_num_models:\n",
    "                    cov_mat_sqrt = cov_mat_sqrt[1:, :]\n",
    "                module.__setattr__(\"%s_cov_mat_sqrt\" % name, cov_mat_sqrt)\n",
    "\n",
    "            module.__setattr__(\"%s_mean\" % name, mean)\n",
    "            module.__setattr__(\"%s_sq_mean\" % name, sq_mean)\n",
    "        self.n_models.add_(1)    \n",
    "        return \n",
    "    \n",
    "    \n",
    "    def sample(self, scale=1.0, cov=False, seed=None, block=False, fullrank=True):\n",
    "#         if seed is not None:\n",
    "#             torch.manual_seed(seed)\n",
    "\n",
    "#         if not block:\n",
    "#             self.sample_fullrank(scale, cov, fullrank)\n",
    "#         else:\n",
    "#             self.sample_blockwise(scale, cov, fullrank)\n",
    "\n",
    "        self.sample_blockwise(scale, cov, fullrank)\n",
    "        return\n",
    "\n",
    "\n",
    "    def sample_blockwise(self, scale, cov, fullrank):\n",
    "        for module, name in self.params:\n",
    "            mean = module.__getattr__(\"%s_mean\" % name)\n",
    "\n",
    "            sq_mean = module.__getattr__(\"%s_sq_mean\" % name)\n",
    "            eps = torch.randn_like(mean)\n",
    "\n",
    "            var = torch.clamp(sq_mean - mean ** 2, self.var_clamp)\n",
    "\n",
    "            scaled_diag_sample = scale * torch.sqrt(var) * eps\n",
    "\n",
    "            if cov is True:\n",
    "                cov_mat_sqrt = module.__getattr__(\"%s_cov_mat_sqrt\" % name)\n",
    "                eps = cov_mat_sqrt.new_empty((cov_mat_sqrt.size(0), 1)).normal_()\n",
    "                cov_sample = (\n",
    "                    scale / ((self.max_num_models - 1) ** 0.5)\n",
    "                ) * cov_mat_sqrt.t().matmul(eps).view_as(mean)\n",
    "\n",
    "                if fullrank:\n",
    "                    w = mean + scaled_diag_sample + cov_sample\n",
    "                else:\n",
    "                    w = mean + scaled_diag_sample\n",
    "\n",
    "            else:\n",
    "                w = mean + scaled_diag_sample\n",
    "\n",
    "\n",
    "            #print('before (module.__getattr__(name)).data')\n",
    "            #print(module.__getattr__(name).data)\n",
    "            #print('after (module.__getattr__(name)).data')\n",
    "            #print(module.__getattr__(name).data)       \n",
    "            #print('')\n",
    "    \n",
    "            #---------------------------------------\n",
    "            # debuggin checked, \n",
    "            # when updating the samples of parameters, it update copied module and original module (nn base model) automatically\n",
    "            # we do not need to copy the item manually\n",
    "            # we sample -> predict where the sampled parameters are automatically reflected on the original module (nn base model)             \n",
    "            #---------------------------------------        \n",
    "            \n",
    "            #module.__setattr__(name, w)            \n",
    "            module.__getattr__(name).data = w \n",
    "        \n",
    "        return "
   ]
  },
  {
   "cell_type": "code",
   "execution_count": null,
   "metadata": {},
   "outputs": [],
   "source": []
  },
  {
   "cell_type": "markdown",
   "metadata": {},
   "source": [
    "## target problem: 1d nonlinear Poisson equation"
   ]
  },
  {
   "cell_type": "code",
   "execution_count": 6,
   "metadata": {},
   "outputs": [
    {
     "data": {
      "text/plain": [
       "AttrDict({'in_dim': 1, 'out_dim': 1, 'noisestd': 0.01, 'nb': 8, 'nobs': 32, 'xmin': -0.7, 'xmax': 0.7, 'tmin': 0, 'tmax': 1})"
      ]
     },
     "execution_count": 6,
     "metadata": {},
     "output_type": "execute_result"
    }
   ],
   "source": [
    "#---------------------------------\n",
    "# data configuration\n",
    "#---------------------------------\n",
    "dataconfig = AttrDict()\n",
    "\n",
    "dataconfig.in_dim,dataconfig.out_dim  = 1,1\n",
    "#dataconfig.noisestd = .5\n",
    "#dataconfig.noisestd = 0.25\n",
    "#dataconfig.noisestd = 0.1\n",
    "dataconfig.noisestd = 0.01\n",
    "\n",
    "#nb,nobs = 16,16 #(nsensors=16)\n",
    "\n",
    "dataconfig.nb,dataconfig.nobs = 8,32 #(nsensors=32)\n",
    "\n",
    "dataconfig.xmin,dataconfig.xmax = -0.7,0.7\n",
    "dataconfig.tmin,dataconfig.tmax = 0,1\n",
    "\n",
    "dataconfig"
   ]
  },
  {
   "cell_type": "code",
   "execution_count": 7,
   "metadata": {},
   "outputs": [],
   "source": [
    "def gen_obs(dataconfig):\n",
    "    \n",
    "    u = lambda x: torch.pow(torch.sin(6*x),3)\n",
    "    f = lambda x: (6**3)*torch.sin(6*x)*torch.pow(torch.cos(6*x),2) - 3*(6**2)*torch.pow(torch.sin(6*x),3)\n",
    "  \n",
    "    # ----------------------------\n",
    "    # gen datset on rd\n",
    "    # ----------------------------    \n",
    "    x = dataconfig.xmin  + (dataconfig.xmax  - dataconfig.xmin)* torch.rand(dataconfig.nb,dataconfig.nobs,dataconfig.in_dim )\n",
    "    g_noise = dataconfig.noisestd*torch.randn(dataconfig.nb,dataconfig.nobs,dataconfig.in_dim )\n",
    "    t = (dataconfig.tmax  - dataconfig.tmin)* torch.rand(dataconfig.nb,1,1 ).repeat(1,dataconfig.nobs,1)\n",
    "\n",
    "    f_xt = f(x)\n",
    "    y_rd = 0.01*f_xt + g_noise     \n",
    "    xt_rd = torch.cat([x,t],dim=-1)\n",
    "    \n",
    "\n",
    "    # ----------------------------\n",
    "    # gen datset on init\n",
    "    # ----------------------------    \n",
    "    x = dataconfig.xmin  + (dataconfig.xmax  - dataconfig.xmin)* torch.rand(dataconfig.nb,dataconfig.nobs,dataconfig.in_dim )\n",
    "    g_noise = dataconfig.noisestd*torch.randn(dataconfig.nb,dataconfig.nobs,dataconfig.in_dim )\n",
    "    t = 0*torch.rand(dataconfig.nb,1,1 ).repeat(1,dataconfig.nobs,1)\n",
    "    u_init = u(x)\n",
    "    xt_init = torch.cat([x,t],dim=-1)\n",
    "\n",
    "    # ----------------------------\n",
    "    # gen datset on bd\n",
    "    # ----------------------------    \n",
    "    x = torch.cat([dataconfig.xmin* torch.ones(dataconfig.nb,dataconfig.nobs//2,dataconfig.in_dim ),\n",
    "                   dataconfig.xmax* torch.ones(dataconfig.nb,dataconfig.nobs//2,dataconfig.in_dim )],dim=-2)\n",
    "     \n",
    "    #g_noise = dataconfig.noisestd*torch.randn(dataconfig.nb,dataconfig.nobs,dataconfig.in_dim )\n",
    "    t = torch.rand(dataconfig.nb,dataconfig.nobs,1  )\n",
    "    u_bd = u(x)\n",
    "    #y_bd = u_bd      \n",
    "    xt_bd = torch.cat([x,t],dim=-1)\n",
    "        \n",
    "    return (xt_rd,y_rd,f_xt),(xt_init,u_init),(xt_bd,u_bd)    \n",
    "\n",
    "\n",
    "    "
   ]
  },
  {
   "cell_type": "code",
   "execution_count": 8,
   "metadata": {},
   "outputs": [
    {
     "data": {
      "text/plain": [
       "AttrDict({'in_dim': 1, 'out_dim': 1, 'noisestd': 0.01, 'nb': 8, 'nobs': 32, 'xmin': -0.7, 'xmax': 0.7, 'tmin': 0, 'tmax': 1})"
      ]
     },
     "execution_count": 8,
     "metadata": {},
     "output_type": "execute_result"
    }
   ],
   "source": [
    "dataconfig"
   ]
  },
  {
   "cell_type": "code",
   "execution_count": 9,
   "metadata": {},
   "outputs": [
    {
     "data": {
      "text/plain": [
       "<matplotlib.collections.PathCollection at 0x7f1e2ba1cef0>"
      ]
     },
     "execution_count": 9,
     "metadata": {},
     "output_type": "execute_result"
    },
    {
     "data": {
      "image/png": "[encoded data removed]",
      "text/plain": [
       "<Figure size 432x288 with 1 Axes>"
      ]
     },
     "metadata": {
      "needs_background": "light"
     },
     "output_type": "display_data"
    }
   ],
   "source": [
    "rd_set,init_set,bd_set = gen_obs(dataconfig)\n",
    "\n",
    "xt_rd,y_rd,f = rd_set\n",
    "xt_init,u_init = init_set\n",
    "xt_bd,u_bd = bd_set\n",
    "\n",
    "bidx = 1\n",
    "plt.scatter(xt_rd[bidx,:,0].cpu().data.numpy(),y_rd[bidx,:,0].cpu().data.numpy())\n",
    "plt.scatter(xt_init[bidx,:,0].cpu().data.numpy(),u_init[bidx,:,0].cpu().data.numpy())\n",
    "plt.scatter(xt_bd[bidx,:,0].cpu().data.numpy(),u_bd[bidx,:,0].cpu().data.numpy())\n",
    "\n",
    "#plt.scatter(xt_init[:,0].cpu().data.numpy(),u_init[:,0].cpu().data.numpy())\n",
    "# plt.scatter(xt[:,0].cpu().data.numpy(),f[:,0].cpu().data.numpy())\n"
   ]
  },
  {
   "cell_type": "code",
   "execution_count": 10,
   "metadata": {},
   "outputs": [],
   "source": [
    "#len(rd_set[:-1])"
   ]
  },
  {
   "cell_type": "code",
   "execution_count": 11,
   "metadata": {},
   "outputs": [
    {
     "name": "stderr",
     "output_type": "stream",
     "text": [
      "/home/yohan/Myenv/lib/python3.6/site-packages/ipykernel_launcher.py:29: UserWarning: nn.init.xavier_uniform is now deprecated in favor of nn.init.xavier_uniform_.\n",
      "/home/yohan/Myenv/lib/python3.6/site-packages/torch/nn/_reduction.py:42: UserWarning: size_average and reduce args will be deprecated, please use reduction='mean' instead.\n",
      "  warnings.warn(warning.format(ret))\n"
     ]
    },
    {
     "data": {
      "text/plain": [
       "PINN_SWAG(\n",
       "  (nn_model): MLP_Layer(\n",
       "    (mapping): Sequential(\n",
       "      (0): Linear(in_features=2, out_features=20, bias=True)\n",
       "      (1): Tanh()\n",
       "      (2): Linear(in_features=20, out_features=20, bias=True)\n",
       "      (3): Tanh()\n",
       "      (4): Linear(in_features=20, out_features=20, bias=True)\n",
       "      (5): Tanh()\n",
       "      (6): Linear(in_features=20, out_features=1, bias=True)\n",
       "    )\n",
       "  )\n",
       "  (mse_loss): MSELoss()\n",
       ")"
      ]
     },
     "execution_count": 11,
     "metadata": {},
     "output_type": "execute_result"
    }
   ],
   "source": [
    "# mlp_layer = MLP_Layer(in_dim = 1, out_dim=1)\n",
    "# mlp_layer\n",
    "#model = PINN_Basic( MLP_Layer(in_dim = 1, out_dim=1) )\n",
    "model = PINN_SWAG( MLP_Layer(in_dim = 1, out_dim=1) )\n",
    "\n",
    "model"
   ]
  },
  {
   "cell_type": "code",
   "execution_count": 12,
   "metadata": {},
   "outputs": [],
   "source": [
    "trainconfig = AttrDict()\n",
    "\n",
    "trainconfig.nepochs = 2000\n",
    "trainconfig.lr = 1e-3\n",
    "trainconfig.weightdecay = 1e-4\n",
    "\n",
    "trainconfig.init_rate = .5\n",
    "trainconfig.start_nepochs = int(trainconfig.nepochs*trainconfig.init_rate)\n",
    "trainconfig.updateperiod = 25\n",
    "\n",
    "optimizer = torch.optim.Adam(model.parameters(), lr=trainconfig.lr,weight_decay=trainconfig.weightdecay)\n"
   ]
  },
  {
   "cell_type": "code",
   "execution_count": 37,
   "metadata": {},
   "outputs": [
    {
     "name": "stdout",
     "output_type": "stream",
     "text": [
      "[10 /2000]: tr loss: 0.54 \t 0.32,0.31,0.12\n",
      "[20 /2000]: tr loss: 0.54 \t 0.32,0.43,0.02\n",
      "[30 /2000]: tr loss: 0.59 \t 0.35,0.42,0.04\n",
      "[40 /2000]: tr loss: 0.55 \t 0.34,0.35,0.07\n",
      "[50 /2000]: tr loss: 0.51 \t 0.30,0.35,0.06\n",
      "[60 /2000]: tr loss: 0.55 \t 0.32,0.40,0.05\n",
      "[70 /2000]: tr loss: 0.55 \t 0.32,0.40,0.06\n",
      "[80 /2000]: tr loss: 0.54 \t 0.33,0.35,0.06\n",
      "[90 /2000]: tr loss: 0.50 \t 0.31,0.32,0.05\n",
      "[100 /2000]: tr loss: 0.50 \t 0.28,0.38,0.05\n",
      "[110 /2000]: tr loss: 0.56 \t 0.35,0.36,0.05\n",
      "[120 /2000]: tr loss: 0.50 \t 0.33,0.31,0.05\n",
      "[130 /2000]: tr loss: 0.54 \t 0.34,0.36,0.05\n",
      "[140 /2000]: tr loss: 0.49 \t 0.36,0.23,0.04\n",
      "[150 /2000]: tr loss: 0.50 \t 0.33,0.29,0.05\n",
      "[160 /2000]: tr loss: 0.49 \t 0.31,0.31,0.04\n",
      "[170 /2000]: tr loss: 0.50 \t 0.36,0.23,0.06\n",
      "[180 /2000]: tr loss: 0.49 \t 0.35,0.24,0.05\n",
      "[190 /2000]: tr loss: 0.49 \t 0.35,0.24,0.04\n",
      "[200 /2000]: tr loss: 0.47 \t 0.34,0.23,0.05\n",
      "[210 /2000]: tr loss: 0.45 \t 0.35,0.15,0.05\n",
      "[220 /2000]: tr loss: 0.43 \t 0.32,0.18,0.04\n",
      "[230 /2000]: tr loss: 0.41 \t 0.33,0.14,0.03\n",
      "[240 /2000]: tr loss: 0.39 \t 0.32,0.13,0.02\n",
      "[250 /2000]: tr loss: 0.40 \t 0.34,0.11,0.02\n",
      "[260 /2000]: tr loss: 0.36 \t 0.31,0.09,0.01\n",
      "[270 /2000]: tr loss: 0.38 \t 0.32,0.09,0.02\n",
      "[280 /2000]: tr loss: 0.35 \t 0.30,0.07,0.02\n",
      "[290 /2000]: tr loss: 0.39 \t 0.35,0.06,0.02\n",
      "[300 /2000]: tr loss: 0.35 \t 0.31,0.06,0.01\n",
      "[310 /2000]: tr loss: 0.36 \t 0.33,0.06,0.01\n",
      "[320 /2000]: tr loss: 0.39 \t 0.35,0.06,0.01\n",
      "[330 /2000]: tr loss: 0.35 \t 0.32,0.05,0.01\n",
      "[340 /2000]: tr loss: 0.34 \t 0.31,0.04,0.01\n",
      "[350 /2000]: tr loss: 0.35 \t 0.32,0.04,0.01\n",
      "[360 /2000]: tr loss: 0.35 \t 0.32,0.04,0.01\n",
      "[370 /2000]: tr loss: 0.37 \t 0.34,0.04,0.01\n",
      "[380 /2000]: tr loss: 0.38 \t 0.36,0.04,0.01\n",
      "[390 /2000]: tr loss: 0.35 \t 0.33,0.04,0.01\n",
      "[400 /2000]: tr loss: 0.38 \t 0.36,0.03,0.01\n",
      "[410 /2000]: tr loss: 0.35 \t 0.32,0.04,0.00\n",
      "[420 /2000]: tr loss: 0.34 \t 0.32,0.04,0.00\n",
      "[430 /2000]: tr loss: 0.33 \t 0.31,0.04,0.00\n",
      "[440 /2000]: tr loss: 0.35 \t 0.33,0.04,0.00\n",
      "[450 /2000]: tr loss: 0.35 \t 0.33,0.04,0.01\n",
      "[460 /2000]: tr loss: 0.28 \t 0.26,0.04,0.00\n",
      "[470 /2000]: tr loss: 0.32 \t 0.29,0.04,0.00\n",
      "[480 /2000]: tr loss: 0.31 \t 0.29,0.04,0.01\n",
      "[490 /2000]: tr loss: 0.31 \t 0.29,0.04,0.00\n",
      "[500 /2000]: tr loss: 0.29 \t 0.26,0.04,0.01\n",
      "[510 /2000]: tr loss: 0.28 \t 0.26,0.04,0.01\n",
      "[520 /2000]: tr loss: 0.25 \t 0.23,0.04,0.00\n",
      "[530 /2000]: tr loss: 0.28 \t 0.25,0.04,0.01\n",
      "[540 /2000]: tr loss: 0.25 \t 0.23,0.04,0.00\n",
      "[550 /2000]: tr loss: 0.25 \t 0.23,0.03,0.00\n",
      "[560 /2000]: tr loss: 0.26 \t 0.24,0.03,0.01\n",
      "[570 /2000]: tr loss: 0.21 \t 0.20,0.03,0.00\n",
      "[580 /2000]: tr loss: 0.25 \t 0.23,0.03,0.00\n",
      "[590 /2000]: tr loss: 0.23 \t 0.21,0.03,0.00\n",
      "[600 /2000]: tr loss: 0.22 \t 0.21,0.02,0.00\n",
      "[610 /2000]: tr loss: 0.28 \t 0.26,0.03,0.00\n",
      "[620 /2000]: tr loss: 0.24 \t 0.22,0.02,0.01\n",
      "[630 /2000]: tr loss: 0.22 \t 0.20,0.03,0.00\n",
      "[640 /2000]: tr loss: 0.19 \t 0.17,0.03,0.00\n",
      "[650 /2000]: tr loss: 0.22 \t 0.20,0.03,0.00\n",
      "[660 /2000]: tr loss: 0.21 \t 0.19,0.03,0.00\n",
      "[670 /2000]: tr loss: 0.20 \t 0.19,0.03,0.01\n",
      "[680 /2000]: tr loss: 0.22 \t 0.21,0.02,0.00\n",
      "[690 /2000]: tr loss: 0.22 \t 0.21,0.02,0.00\n",
      "[700 /2000]: tr loss: 0.26 \t 0.25,0.02,0.00\n",
      "[710 /2000]: tr loss: 0.21 \t 0.19,0.03,0.00\n",
      "[720 /2000]: tr loss: 0.21 \t 0.19,0.02,0.00\n",
      "[730 /2000]: tr loss: 0.20 \t 0.18,0.02,0.00\n",
      "[740 /2000]: tr loss: 0.23 \t 0.22,0.03,0.00\n",
      "[750 /2000]: tr loss: 0.21 \t 0.19,0.02,0.00\n",
      "[760 /2000]: tr loss: 0.20 \t 0.19,0.02,0.00\n",
      "[770 /2000]: tr loss: 0.23 \t 0.21,0.02,0.00\n",
      "[780 /2000]: tr loss: 0.23 \t 0.22,0.02,0.00\n",
      "[790 /2000]: tr loss: 0.22 \t 0.21,0.02,0.00\n",
      "[800 /2000]: tr loss: 0.21 \t 0.20,0.02,0.00\n",
      "[810 /2000]: tr loss: 0.18 \t 0.17,0.02,0.00\n",
      "[820 /2000]: tr loss: 0.20 \t 0.18,0.02,0.00\n",
      "[830 /2000]: tr loss: 0.21 \t 0.20,0.02,0.00\n",
      "[840 /2000]: tr loss: 0.22 \t 0.21,0.02,0.00\n",
      "[850 /2000]: tr loss: 0.20 \t 0.19,0.02,0.00\n",
      "[860 /2000]: tr loss: 0.18 \t 0.17,0.02,0.00\n",
      "[870 /2000]: tr loss: 0.17 \t 0.16,0.02,0.00\n",
      "[880 /2000]: tr loss: 0.17 \t 0.16,0.02,0.00\n",
      "[890 /2000]: tr loss: 0.18 \t 0.17,0.02,0.00\n",
      "[900 /2000]: tr loss: 0.18 \t 0.17,0.02,0.00\n",
      "[910 /2000]: tr loss: 0.16 \t 0.15,0.01,0.00\n",
      "[920 /2000]: tr loss: 0.17 \t 0.17,0.01,0.00\n",
      "[930 /2000]: tr loss: 0.16 \t 0.15,0.01,0.00\n",
      "[940 /2000]: tr loss: 0.15 \t 0.15,0.01,0.00\n",
      "[950 /2000]: tr loss: 0.13 \t 0.12,0.01,0.00\n",
      "[960 /2000]: tr loss: 0.12 \t 0.11,0.01,0.00\n",
      "[970 /2000]: tr loss: 0.12 \t 0.12,0.01,0.00\n",
      "[980 /2000]: tr loss: 0.12 \t 0.11,0.01,0.00\n",
      "[990 /2000]: tr loss: 0.11 \t 0.11,0.01,0.00\n",
      "update at 1000\n",
      "[1000 /2000]: tr loss: 0.10 \t 0.09,0.01,0.00\n",
      "[1010 /2000]: tr loss: 0.11 \t 0.10,0.01,0.00\n",
      "[1020 /2000]: tr loss: 0.10 \t 0.09,0.01,0.00\n",
      "update at 1025\n",
      "[1030 /2000]: tr loss: 0.09 \t 0.09,0.01,0.00\n",
      "[1040 /2000]: tr loss: 0.10 \t 0.09,0.01,0.00\n",
      "update at 1050\n",
      "[1050 /2000]: tr loss: 0.10 \t 0.10,0.01,0.00\n",
      "[1060 /2000]: tr loss: 0.10 \t 0.09,0.01,0.00\n",
      "[1070 /2000]: tr loss: 0.08 \t 0.07,0.01,0.00\n",
      "update at 1075\n",
      "[1080 /2000]: tr loss: 0.07 \t 0.07,0.01,0.00\n",
      "[1090 /2000]: tr loss: 0.08 \t 0.08,0.01,0.00\n",
      "update at 1100\n",
      "[1100 /2000]: tr loss: 0.10 \t 0.09,0.01,0.00\n",
      "[1110 /2000]: tr loss: 0.09 \t 0.08,0.01,0.00\n",
      "[1120 /2000]: tr loss: 0.08 \t 0.07,0.01,0.00\n",
      "update at 1125\n",
      "[1130 /2000]: tr loss: 0.08 \t 0.07,0.01,0.00\n",
      "[1140 /2000]: tr loss: 0.07 \t 0.07,0.01,0.00\n",
      "update at 1150\n",
      "[1150 /2000]: tr loss: 0.07 \t 0.07,0.01,0.00\n",
      "[1160 /2000]: tr loss: 0.06 \t 0.05,0.01,0.00\n",
      "[1170 /2000]: tr loss: 0.07 \t 0.07,0.01,0.00\n",
      "update at 1175\n",
      "[1180 /2000]: tr loss: 0.07 \t 0.06,0.01,0.00\n",
      "[1190 /2000]: tr loss: 0.05 \t 0.05,0.01,0.00\n",
      "update at 1200\n",
      "[1200 /2000]: tr loss: 0.05 \t 0.05,0.01,0.00\n",
      "[1210 /2000]: tr loss: 0.06 \t 0.06,0.01,0.00\n",
      "[1220 /2000]: tr loss: 0.05 \t 0.05,0.01,0.00\n",
      "update at 1225\n",
      "[1230 /2000]: tr loss: 0.04 \t 0.04,0.01,0.00\n",
      "[1240 /2000]: tr loss: 0.05 \t 0.05,0.01,0.00\n",
      "update at 1250\n",
      "[1250 /2000]: tr loss: 0.05 \t 0.05,0.00,0.00\n",
      "[1260 /2000]: tr loss: 0.05 \t 0.05,0.01,0.00\n",
      "[1270 /2000]: tr loss: 0.04 \t 0.04,0.00,0.00\n",
      "update at 1275\n",
      "[1280 /2000]: tr loss: 0.05 \t 0.05,0.00,0.00\n",
      "[1290 /2000]: tr loss: 0.04 \t 0.04,0.00,0.00\n",
      "update at 1300\n",
      "[1300 /2000]: tr loss: 0.04 \t 0.03,0.00,0.00\n",
      "[1310 /2000]: tr loss: 0.04 \t 0.04,0.00,0.00\n",
      "[1320 /2000]: tr loss: 0.03 \t 0.03,0.00,0.00\n",
      "update at 1325\n",
      "[1330 /2000]: tr loss: 0.03 \t 0.02,0.00,0.00\n",
      "[1340 /2000]: tr loss: 0.04 \t 0.03,0.00,0.00\n",
      "update at 1350\n",
      "[1350 /2000]: tr loss: 0.04 \t 0.04,0.00,0.00\n",
      "[1360 /2000]: tr loss: 0.03 \t 0.03,0.00,0.00\n",
      "[1370 /2000]: tr loss: 0.04 \t 0.04,0.00,0.00\n",
      "update at 1375\n",
      "[1380 /2000]: tr loss: 0.03 \t 0.02,0.00,0.00\n",
      "[1390 /2000]: tr loss: 0.03 \t 0.03,0.00,0.00\n",
      "update at 1400\n",
      "[1400 /2000]: tr loss: 0.04 \t 0.04,0.00,0.00\n",
      "[1410 /2000]: tr loss: 0.03 \t 0.03,0.00,0.00\n",
      "[1420 /2000]: tr loss: 0.02 \t 0.02,0.00,0.00\n",
      "update at 1425\n",
      "[1430 /2000]: tr loss: 0.03 \t 0.02,0.00,0.00\n",
      "[1440 /2000]: tr loss: 0.02 \t 0.02,0.00,0.00\n",
      "update at 1450\n",
      "[1450 /2000]: tr loss: 0.03 \t 0.02,0.00,0.00\n",
      "[1460 /2000]: tr loss: 0.03 \t 0.03,0.00,0.00\n",
      "[1470 /2000]: tr loss: 0.02 \t 0.02,0.00,0.00\n",
      "update at 1475\n",
      "[1480 /2000]: tr loss: 0.02 \t 0.02,0.00,0.00\n",
      "[1490 /2000]: tr loss: 0.02 \t 0.02,0.00,0.00\n",
      "update at 1500\n",
      "[1500 /2000]: tr loss: 0.02 \t 0.02,0.00,0.00\n",
      "[1510 /2000]: tr loss: 0.02 \t 0.02,0.00,0.00\n",
      "[1520 /2000]: tr loss: 0.02 \t 0.02,0.00,0.00\n",
      "update at 1525\n",
      "[1530 /2000]: tr loss: 0.02 \t 0.02,0.00,0.00\n",
      "[1540 /2000]: tr loss: 0.02 \t 0.02,0.00,0.00\n",
      "update at 1550\n",
      "[1550 /2000]: tr loss: 0.02 \t 0.01,0.00,0.00\n",
      "[1560 /2000]: tr loss: 0.02 \t 0.02,0.00,0.00\n",
      "[1570 /2000]: tr loss: 0.02 \t 0.02,0.00,0.00\n",
      "update at 1575\n",
      "[1580 /2000]: tr loss: 0.02 \t 0.02,0.00,0.00\n",
      "[1590 /2000]: tr loss: 0.01 \t 0.01,0.00,0.00\n",
      "update at 1600\n",
      "[1600 /2000]: tr loss: 0.01 \t 0.01,0.00,0.00\n",
      "[1610 /2000]: tr loss: 0.01 \t 0.01,0.00,0.00\n",
      "[1620 /2000]: tr loss: 0.01 \t 0.01,0.00,0.00\n",
      "update at 1625\n",
      "[1630 /2000]: tr loss: 0.01 \t 0.01,0.00,0.00\n",
      "[1640 /2000]: tr loss: 0.01 \t 0.01,0.00,0.00\n",
      "update at 1650\n",
      "[1650 /2000]: tr loss: 0.01 \t 0.01,0.00,0.00\n",
      "[1660 /2000]: tr loss: 0.01 \t 0.01,0.00,0.00\n",
      "[1670 /2000]: tr loss: 0.01 \t 0.01,0.00,0.00\n",
      "update at 1675\n",
      "[1680 /2000]: tr loss: 0.01 \t 0.01,0.00,0.00\n",
      "[1690 /2000]: tr loss: 0.01 \t 0.01,0.00,0.00\n",
      "update at 1700\n",
      "[1700 /2000]: tr loss: 0.01 \t 0.01,0.00,0.00\n",
      "[1710 /2000]: tr loss: 0.01 \t 0.01,0.00,0.00\n",
      "[1720 /2000]: tr loss: 0.01 \t 0.00,0.00,0.00\n",
      "update at 1725\n",
      "[1730 /2000]: tr loss: 0.01 \t 0.01,0.00,0.00\n",
      "[1740 /2000]: tr loss: 0.01 \t 0.00,0.00,0.00\n",
      "update at 1750\n",
      "[1750 /2000]: tr loss: 0.00 \t 0.00,0.00,0.00\n",
      "[1760 /2000]: tr loss: 0.00 \t 0.00,0.00,0.00\n",
      "[1770 /2000]: tr loss: 0.00 \t 0.00,0.00,0.00\n",
      "update at 1775\n",
      "[1780 /2000]: tr loss: 0.00 \t 0.00,0.00,0.00\n",
      "[1790 /2000]: tr loss: 0.00 \t 0.00,0.00,0.00\n",
      "update at 1800\n",
      "[1800 /2000]: tr loss: 0.00 \t 0.00,0.00,0.00\n",
      "[1810 /2000]: tr loss: 0.00 \t 0.00,0.00,0.00\n",
      "[1820 /2000]: tr loss: 0.00 \t 0.00,0.00,0.00\n",
      "update at 1825\n",
      "[1830 /2000]: tr loss: 0.00 \t 0.00,0.00,0.00\n",
      "[1840 /2000]: tr loss: 0.00 \t 0.00,0.00,0.00\n",
      "update at 1850\n",
      "[1850 /2000]: tr loss: 0.00 \t 0.00,0.00,0.00\n",
      "[1860 /2000]: tr loss: 0.00 \t 0.00,0.00,0.00\n",
      "[1870 /2000]: tr loss: 0.00 \t 0.00,0.00,0.00\n",
      "update at 1875\n",
      "[1880 /2000]: tr loss: 0.00 \t 0.00,0.00,0.00\n",
      "[1890 /2000]: tr loss: 0.00 \t 0.00,0.00,0.00\n",
      "update at 1900\n",
      "[1900 /2000]: tr loss: 0.00 \t 0.00,0.00,0.00\n",
      "[1910 /2000]: tr loss: 0.00 \t 0.00,0.00,0.00\n",
      "[1920 /2000]: tr loss: 0.00 \t 0.00,0.00,0.00\n",
      "update at 1925\n",
      "[1930 /2000]: tr loss: 0.00 \t 0.00,0.00,0.00\n",
      "[1940 /2000]: tr loss: 0.00 \t 0.00,0.00,0.00\n",
      "update at 1950\n",
      "[1950 /2000]: tr loss: 0.00 \t 0.00,0.00,0.00\n",
      "[1960 /2000]: tr loss: 0.00 \t 0.00,0.00,0.00\n",
      "[1970 /2000]: tr loss: 0.00 \t 0.00,0.00,0.00\n",
      "update at 1975\n",
      "[1980 /2000]: tr loss: 0.00 \t 0.00,0.00,0.00\n",
      "[1990 /2000]: tr loss: 0.00 \t 0.00,0.00,0.00\n",
      "update at 2000\n",
      "[2000 /2000]: tr loss: 0.00 \t 0.00,0.00,0.00\n"
     ]
    }
   ],
   "source": [
    "model.train()\n",
    "for j in range(1,trainconfig.nepochs+1):\n",
    "    rd_set,init_set,bd_set = gen_obs(dataconfig)\n",
    "    loss_rd,loss_init,loss_bd = model.compute_loss(*rd_set[:-1],*init_set,*bd_set)\n",
    "    \n",
    "    loss = loss_rd + 0.5*(loss_init + loss_bd) \n",
    "        \n",
    "    #update model params\n",
    "    optimizer.zero_grad()        \n",
    "    loss.backward()\n",
    "    optimizer.step()\n",
    "\n",
    "    \n",
    "    if (trainconfig.start_nepochs <= j and\n",
    "       (j - trainconfig.start_nepochs) % trainconfig.updateperiod== 0\n",
    "    ):\n",
    "        print('update at {}'.format(j))\n",
    "        model.collect_model()\n",
    "\n",
    "        \n",
    "    if j % 10 == 0:\n",
    "        print('[{} /{}]: tr loss: {:.2f} \\t {:.2f},{:.2f},{:.2f}'.format(j,trainconfig.nepochs,loss,loss_rd,loss_init,loss_bd))\n",
    "        "
   ]
  },
  {
   "cell_type": "code",
   "execution_count": 38,
   "metadata": {},
   "outputs": [],
   "source": [
    "#model.collect_model(model.nn_model)"
   ]
  },
  {
   "cell_type": "code",
   "execution_count": 39,
   "metadata": {},
   "outputs": [],
   "source": [
    "# %s_mean\" % name\n",
    "# %s_sq_mean\" % name\n",
    "# %s_cov_mat_sqrt_mean\" % name\n",
    "\n",
    "#__getattr__(\"%s_mean\" % name)\n",
    "\n",
    "#model.params"
   ]
  },
  {
   "cell_type": "code",
   "execution_count": 40,
   "metadata": {},
   "outputs": [],
   "source": [
    "#model.params[0][0].__getattr__('%s_mean' % 'weight'),model.params[0][0].__getattr__('%s' % 'weight') ,  model.nn_model.mapping[0].weight"
   ]
  },
  {
   "cell_type": "code",
   "execution_count": 41,
   "metadata": {},
   "outputs": [],
   "source": [
    "#model.sample()"
   ]
  },
  {
   "cell_type": "code",
   "execution_count": 42,
   "metadata": {},
   "outputs": [],
   "source": [
    "#model.params[0][0].__getattr__('%s_mean' % 'weight'),model.params[0][0].__getattr__('%s' % 'weight') , model.nn_model.mapping[0].weight"
   ]
  },
  {
   "cell_type": "code",
   "execution_count": 43,
   "metadata": {},
   "outputs": [],
   "source": [
    "# (tensor([[ 0.6800,  0.2006],\n",
    "#          [ 0.0344, -0.5858],\n",
    "#          [ 0.4905, -0.2293],\n",
    "#          [-0.3644,  0.9780],\n",
    "#          [ 0.3410, -0.7152],\n",
    "#          [-0.8805,  0.1235],\n",
    "#          [-1.0066, -0.2175],\n",
    "#          [-0.5921,  0.5227],\n",
    "#          [ 1.3243,  0.7722],\n",
    "#          [-0.4579, -0.2471]]), Parameter containing:"
   ]
  },
  {
   "cell_type": "markdown",
   "metadata": {},
   "source": [
    "## eval mode"
   ]
  },
  {
   "cell_type": "code",
   "execution_count": 44,
   "metadata": {},
   "outputs": [
    {
     "data": {
      "text/plain": [
       "PINN_SWAG(\n",
       "  (nn_model): MLP_Layer(\n",
       "    (mapping): Sequential(\n",
       "      (0): Linear(in_features=2, out_features=20, bias=True)\n",
       "      (1): Tanh()\n",
       "      (2): Linear(in_features=20, out_features=20, bias=True)\n",
       "      (3): Tanh()\n",
       "      (4): Linear(in_features=20, out_features=20, bias=True)\n",
       "      (5): Tanh()\n",
       "      (6): Linear(in_features=20, out_features=1, bias=True)\n",
       "    )\n",
       "  )\n",
       "  (mse_loss): MSELoss()\n",
       ")"
      ]
     },
     "execution_count": 44,
     "metadata": {},
     "output_type": "execute_result"
    }
   ],
   "source": [
    "model.eval()"
   ]
  },
  {
   "cell_type": "code",
   "execution_count": 45,
   "metadata": {},
   "outputs": [],
   "source": [
    "rd_set,init_set,bd_set = gen_obs(dataconfig)\n",
    "\n",
    "xt_rd,y_rd,f = rd_set\n",
    "xt_init,u_init = init_set\n",
    "xt_bd,u_bd = bd_set"
   ]
  },
  {
   "cell_type": "code",
   "execution_count": 47,
   "metadata": {},
   "outputs": [],
   "source": [
    "pred_mu,pred_std = model.compute_preddist(xt_rd,num_sample=20)\n"
   ]
  },
  {
   "cell_type": "code",
   "execution_count": 48,
   "metadata": {},
   "outputs": [
    {
     "data": {
      "image/png": "[encoded data removed]",
      "text/plain": [
       "<Figure size 432x288 with 1 Axes>"
      ]
     },
     "metadata": {
      "needs_background": "light"
     },
     "output_type": "display_data"
    },
    {
     "data": {
      "image/png": "[encoded data removed]",
      "text/plain": [
       "<Figure size 432x288 with 1 Axes>"
      ]
     },
     "metadata": {
      "needs_background": "light"
     },
     "output_type": "display_data"
    },
    {
     "data": {
      "image/png": "[encoded data removed]",
      "text/plain": [
       "<Figure size 432x288 with 1 Axes>"
      ]
     },
     "metadata": {
      "needs_background": "light"
     },
     "output_type": "display_data"
    },
    {
     "data": {
      "image/png": "[encoded data removed]",
      "text/plain": [
       "<Figure size 432x288 with 1 Axes>"
      ]
     },
     "metadata": {
      "needs_background": "light"
     },
     "output_type": "display_data"
    }
   ],
   "source": [
    "#for x_rd,y_rd,u_rd in xt_rd,u:\n",
    "#figure()\n",
    "for j in range(4):\n",
    "    #model.sample()\n",
    "    #uxt_rd = model(xt_rd)\n",
    "\n",
    "    fig = plt.figure()\n",
    "    #plt.scatter(xt_rd[j,:,0].cpu().data.numpy(),uxt_rd[j,:,0].cpu().data.numpy(),color='b')\n",
    "    plt.scatter(xt_rd[j,:,0].cpu().data.numpy(),pred_mu[j,:,0].cpu().data.numpy(),color='b')\n",
    "    plt.scatter(xt_rd[j,:,0].cpu().data.numpy(),(pred_mu-2*pred_std)[j,:,0].cpu().data.numpy(),s=10,color='b')\n",
    "    plt.scatter(xt_rd[j,:,0].cpu().data.numpy(),(pred_mu+2*pred_std)[j,:,0].cpu().data.numpy(),s=10,color='b')\n",
    "    \n",
    "    plt.scatter(xt_init[j,:,0].cpu().data.numpy(),u_init[j,:,0].cpu().data.numpy(),color='r')\n",
    "    plt.scatter(xt_bd[j,:,0].cpu().data.numpy(),u_bd[j,:,0].cpu().data.numpy())\n",
    "    \n",
    "    plt.show()\n",
    "    \n",
    "    \n",
    "#plt.scatter(xt_rd[0,:,0].cpu().data.numpy(),f[0,:,0].cpu().data.numpy(),zorder=2)\n",
    "#plt.scatter(xt_rd[1,:,0].cpu().data.numpy(),rd_set[2][1,:,0].cpu().data.numpy())\n",
    "\n",
    "    \n",
    "# for x_rd,y_rd,u_rd in xt_rd,u:\n",
    "#     figure()\n",
    "#     plt.scatter(xt_rd[0,:,0].cpu().data.numpy(),uxt_rd[1,:,0].cpu().data.numpy())\n",
    "#     plt.scatter(xt_rd[1,:,0].cpu().data.numpy(),rd_set[2][1,:,0].cpu().data.numpy())\n"
   ]
  },
  {
   "cell_type": "code",
   "execution_count": 86,
   "metadata": {},
   "outputs": [],
   "source": [
    "#rd_set"
   ]
  },
  {
   "cell_type": "code",
   "execution_count": null,
   "metadata": {},
   "outputs": [],
   "source": []
  },
  {
   "cell_type": "code",
   "execution_count": null,
   "metadata": {},
   "outputs": [],
   "source": []
  },
  {
   "cell_type": "code",
   "execution_count": null,
   "metadata": {},
   "outputs": [],
   "source": []
  },
  {
   "cell_type": "code",
   "execution_count": null,
   "metadata": {},
   "outputs": [],
   "source": []
  }
 ],
 "metadata": {
  "kernelspec": {
   "display_name": "Python 3",
   "language": "python",
   "name": "python3"
  },
  "language_info": {
   "codemirror_mode": {
    "name": "ipython",
    "version": 3
   },
   "file_extension": ".py",
   "mimetype": "text/x-python",
   "name": "python",
   "nbconvert_exporter": "python",
   "pygments_lexer": "ipython3",
   "version": "3.6.8"
  }
 },
 "nbformat": 4,
 "nbformat_minor": 4
}
